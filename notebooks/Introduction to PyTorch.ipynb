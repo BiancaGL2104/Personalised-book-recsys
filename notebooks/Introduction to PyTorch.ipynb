{
 "cells": [
  {
   "cell_type": "code",
   "execution_count": 2,
   "id": "28a65663-a003-43f0-b8bc-17e85f3e9e82",
   "metadata": {},
   "outputs": [],
   "source": [
    "import torch\n",
    "import numpy as np"
   ]
  },
  {
   "cell_type": "code",
   "execution_count": 3,
   "id": "a2aa9537-b2a5-4e81-a1b5-e0ceef3ea871",
   "metadata": {},
   "outputs": [],
   "source": [
    "data=[[1,2],[3,4]]\n",
    "x_data=torch.tensor(data)"
   ]
  },
  {
   "cell_type": "code",
   "execution_count": 4,
   "id": "61786f59-6921-4e05-9b8f-b4e3b89f9ff0",
   "metadata": {},
   "outputs": [
    {
     "data": {
      "text/plain": [
       "tensor([[1, 2],\n",
       "        [3, 4]])"
      ]
     },
     "execution_count": 4,
     "metadata": {},
     "output_type": "execute_result"
    }
   ],
   "source": [
    "x_data"
   ]
  },
  {
   "cell_type": "code",
   "execution_count": 5,
   "id": "45c33160-7b60-4764-bca4-f48dc40bedca",
   "metadata": {},
   "outputs": [],
   "source": [
    "#converts list to np.array\n",
    "np_array=np.array(data)\n",
    "#convert np.array to tensor\n",
    "x_np=torch.from_numpy(np_array)"
   ]
  },
  {
   "cell_type": "code",
   "execution_count": 6,
   "id": "af4c7d2c-e450-467f-872c-2b89aec17b0b",
   "metadata": {},
   "outputs": [
    {
     "data": {
      "text/plain": [
       "tensor([[1, 2],\n",
       "        [3, 4]])"
      ]
     },
     "execution_count": 6,
     "metadata": {},
     "output_type": "execute_result"
    }
   ],
   "source": [
    "x_np"
   ]
  },
  {
   "cell_type": "code",
   "execution_count": 7,
   "id": "7400cbfa-bf9b-4159-bb60-5bee02538a8b",
   "metadata": {},
   "outputs": [
    {
     "name": "stdout",
     "output_type": "stream",
     "text": [
      "Ones Tensor: \n",
      " tensor([[1, 1],\n",
      "        [1, 1]]) \n",
      "\n",
      "Random Tensor: \n",
      " tensor([[0.7453, 0.8387],\n",
      "        [0.6496, 0.5002]]) \n",
      "\n"
     ]
    }
   ],
   "source": [
    "x_ones=torch.ones_like(x_data)\n",
    "print(f\"Ones Tensor: \\n {x_ones} \\n\")\n",
    "\n",
    "x_rand=torch.rand_like(x_data, dtype=torch.float)\n",
    "print(f\"Random Tensor: \\n {x_rand} \\n\")"
   ]
  },
  {
   "cell_type": "code",
   "execution_count": 8,
   "id": "6eb2fdec-a69f-4a8d-a723-7899e2f0dd17",
   "metadata": {},
   "outputs": [
    {
     "name": "stdout",
     "output_type": "stream",
     "text": [
      "Random Tensor: \n",
      " tensor([[0.7376, 0.1261, 0.0885],\n",
      "        [0.6502, 0.4549, 0.0183]]) \n",
      "\n",
      "Ones Tensor: \n",
      " tensor([[1., 1., 1.],\n",
      "        [1., 1., 1.]]) \n",
      "\n",
      "Zeros Tensor: \n",
      " tensor([[0., 0., 0.],\n",
      "        [0., 0., 0.]]) \n",
      "\n"
     ]
    }
   ],
   "source": [
    "shape=(2,3,)\n",
    "rand_tensor=torch.rand(shape)\n",
    "ones_tensor=torch.ones(shape)\n",
    "zeros_tensor=torch.zeros(shape)\n",
    "\n",
    "print(f\"Random Tensor: \\n {rand_tensor} \\n\")\n",
    "print(f\"Ones Tensor: \\n {ones_tensor} \\n\")\n",
    "print(f\"Zeros Tensor: \\n {zeros_tensor} \\n\")"
   ]
  },
  {
   "cell_type": "code",
   "execution_count": 9,
   "id": "faf06754-1ccd-4d29-9cfd-b306fdf9799b",
   "metadata": {},
   "outputs": [
    {
     "name": "stdout",
     "output_type": "stream",
     "text": [
      "Shape of tensor: torch.Size([3, 4])\n",
      "Datatype of tensor: torch.float32\n",
      "Device tensor is stored on: cpu\n"
     ]
    }
   ],
   "source": [
    "tensor=torch.rand(3,4)\n",
    "print(f\"Shape of tensor: {tensor.shape}\")\n",
    "print(f\"Datatype of tensor: {tensor.dtype}\")\n",
    "print(f\"Device tensor is stored on: {tensor.device}\")"
   ]
  },
  {
   "cell_type": "code",
   "execution_count": 10,
   "id": "ce02eea2-58e8-4410-af7a-ad9c027657d6",
   "metadata": {},
   "outputs": [
    {
     "name": "stdout",
     "output_type": "stream",
     "text": [
      "tensor.mul(tensor) \n",
      " tensor([[0.5926, 0.3237, 0.0152, 0.0602],\n",
      "        [0.0633, 0.8220, 0.5961, 0.2609],\n",
      "        [0.6853, 0.8384, 0.3800, 0.2073]]) \n",
      "\n",
      "tensor * tensor \n",
      " tensor([[0.5926, 0.3237, 0.0152, 0.0602],\n",
      "        [0.0633, 0.8220, 0.5961, 0.2609],\n",
      "        [0.6853, 0.8384, 0.3800, 0.2073]])\n"
     ]
    }
   ],
   "source": [
    "#this computes the element-wise product\n",
    "print(f\"tensor.mul(tensor) \\n {tensor.mul(tensor)} \\n\")\n",
    "#Alternative syntax:\n",
    "print(f\"tensor * tensor \\n {tensor * tensor}\")"
   ]
  },
  {
   "cell_type": "code",
   "execution_count": 11,
   "id": "ebc98536-9d46-4ae9-9344-86e805f2d3af",
   "metadata": {},
   "outputs": [
    {
     "name": "stdout",
     "output_type": "stream",
     "text": [
      "tensor.matmul(tensor.T) \n",
      " tensor([[0.9916, 0.9301, 1.3459],\n",
      "        [0.9301, 1.7424, 1.7470],\n",
      "        [1.3459, 1.7470, 2.1110]]) \n",
      "\n",
      "tensor @ tensor.T \n",
      " tensor([[0.9916, 0.9301, 1.3459],\n",
      "        [0.9301, 1.7424, 1.7470],\n",
      "        [1.3459, 1.7470, 2.1110]])\n"
     ]
    }
   ],
   "source": [
    "print(f\"tensor.matmul(tensor.T) \\n {tensor.matmul(tensor.T)} \\n\")\n",
    "# Alternative syntax:\n",
    "print(f\"tensor @ tensor.T \\n {tensor @ tensor.T}\")"
   ]
  },
  {
   "cell_type": "code",
   "execution_count": 12,
   "id": "4aad000a-7916-4e45-a943-6cd55379fe5e",
   "metadata": {},
   "outputs": [
    {
     "name": "stdout",
     "output_type": "stream",
     "text": [
      "t: tensor([1., 1., 1., 1., 1.])\n",
      "n: [1. 1. 1. 1. 1.]\n"
     ]
    }
   ],
   "source": [
    "t=torch.ones(5)\n",
    "print(f\"t: {t}\")\n",
    "n=t.numpy()\n",
    "print(f\"n: {n}\")"
   ]
  },
  {
   "cell_type": "code",
   "execution_count": 13,
   "id": "3fd3a083-4b6d-4c9e-adcf-75745069c489",
   "metadata": {},
   "outputs": [
    {
     "name": "stdout",
     "output_type": "stream",
     "text": [
      "t: tensor([2., 2., 2., 2., 2.])\n",
      "n: [2. 2. 2. 2. 2.]\n"
     ]
    }
   ],
   "source": [
    "t.add_(1)\n",
    "print(f\"t: {t}\")\n",
    "print(f\"n: {n}\")"
   ]
  },
  {
   "cell_type": "code",
   "execution_count": 14,
   "id": "7ea1f4ae-5968-4d12-8f2e-69f3a873023e",
   "metadata": {},
   "outputs": [],
   "source": [
    "n=np.ones(5)\n",
    "t=torch.from_numpy(n)"
   ]
  },
  {
   "cell_type": "code",
   "execution_count": 15,
   "id": "7f177381-41ec-4173-ae9a-86b88acea44d",
   "metadata": {},
   "outputs": [],
   "source": [
    "import torchvision\n",
    "from torchvision import transforms, datasets\n",
    "from IPython.display import Image"
   ]
  },
  {
   "cell_type": "code",
   "execution_count": 16,
   "id": "d980b81a-e725-4675-826a-6acef275983e",
   "metadata": {},
   "outputs": [
    {
     "data": {
      "image/png": "[encoded data removed]",
      "text/plain": [
       "<IPython.core.display.Image object>"
      ]
     },
     "execution_count": 16,
     "metadata": {},
     "output_type": "execute_result"
    }
   ],
   "source": [
    "Image('mnist_plot-800x600.png')"
   ]
  },
  {
   "cell_type": "code",
   "execution_count": 17,
   "id": "37bb5b8e-8917-4c9e-a026-70a27ad122f7",
   "metadata": {},
   "outputs": [],
   "source": [
    "''' The data is not in tensor format \n",
    "    so we convert it '''\n",
    "train = datasets.MNIST('Train Dataset MNIST', train=True, download=True,\n",
    "                     transform=transforms.Compose([\n",
    "                         transforms.ToTensor()\n",
    "                     ])) #'' specify where to store the data\n",
    "\n",
    "test = datasets.MNIST('Test Dataset MNIST', train=False, download=True, \n",
    "                      transform=transforms.Compose([\n",
    "                          transforms.ToTensor()\n",
    "                      ]))"
   ]
  },
  {
   "cell_type": "code",
   "execution_count": 18,
   "id": "6a50f78f-05ae-4c31-8076-6174b47a3e2f",
   "metadata": {},
   "outputs": [],
   "source": [
    "trainset = torch.utils.data.DataLoader(train, batch_size=10, shuffle=True) \n",
    "testset = torch.utils.data.DataLoader(test, batch_size=10, shuffle=True)\n",
    "#batch_size is how many datapoints we want to pass at a time."
   ]
  },
  {
   "cell_type": "code",
   "execution_count": 19,
   "id": "3606d1a8-f21e-47c4-9ef3-0cea45fb1666",
   "metadata": {},
   "outputs": [
    {
     "name": "stdout",
     "output_type": "stream",
     "text": [
      "[tensor([[[[0., 0., 0.,  ..., 0., 0., 0.],\n",
      "          [0., 0., 0.,  ..., 0., 0., 0.],\n",
      "          [0., 0., 0.,  ..., 0., 0., 0.],\n",
      "          ...,\n",
      "          [0., 0., 0.,  ..., 0., 0., 0.],\n",
      "          [0., 0., 0.,  ..., 0., 0., 0.],\n",
      "          [0., 0., 0.,  ..., 0., 0., 0.]]],\n",
      "\n",
      "\n",
      "        [[[0., 0., 0.,  ..., 0., 0., 0.],\n",
      "          [0., 0., 0.,  ..., 0., 0., 0.],\n",
      "          [0., 0., 0.,  ..., 0., 0., 0.],\n",
      "          ...,\n",
      "          [0., 0., 0.,  ..., 0., 0., 0.],\n",
      "          [0., 0., 0.,  ..., 0., 0., 0.],\n",
      "          [0., 0., 0.,  ..., 0., 0., 0.]]],\n",
      "\n",
      "\n",
      "        [[[0., 0., 0.,  ..., 0., 0., 0.],\n",
      "          [0., 0., 0.,  ..., 0., 0., 0.],\n",
      "          [0., 0., 0.,  ..., 0., 0., 0.],\n",
      "          ...,\n",
      "          [0., 0., 0.,  ..., 0., 0., 0.],\n",
      "          [0., 0., 0.,  ..., 0., 0., 0.],\n",
      "          [0., 0., 0.,  ..., 0., 0., 0.]]],\n",
      "\n",
      "\n",
      "        ...,\n",
      "\n",
      "\n",
      "        [[[0., 0., 0.,  ..., 0., 0., 0.],\n",
      "          [0., 0., 0.,  ..., 0., 0., 0.],\n",
      "          [0., 0., 0.,  ..., 0., 0., 0.],\n",
      "          ...,\n",
      "          [0., 0., 0.,  ..., 0., 0., 0.],\n",
      "          [0., 0., 0.,  ..., 0., 0., 0.],\n",
      "          [0., 0., 0.,  ..., 0., 0., 0.]]],\n",
      "\n",
      "\n",
      "        [[[0., 0., 0.,  ..., 0., 0., 0.],\n",
      "          [0., 0., 0.,  ..., 0., 0., 0.],\n",
      "          [0., 0., 0.,  ..., 0., 0., 0.],\n",
      "          ...,\n",
      "          [0., 0., 0.,  ..., 0., 0., 0.],\n",
      "          [0., 0., 0.,  ..., 0., 0., 0.],\n",
      "          [0., 0., 0.,  ..., 0., 0., 0.]]],\n",
      "\n",
      "\n",
      "        [[[0., 0., 0.,  ..., 0., 0., 0.],\n",
      "          [0., 0., 0.,  ..., 0., 0., 0.],\n",
      "          [0., 0., 0.,  ..., 0., 0., 0.],\n",
      "          ...,\n",
      "          [0., 0., 0.,  ..., 0., 0., 0.],\n",
      "          [0., 0., 0.,  ..., 0., 0., 0.],\n",
      "          [0., 0., 0.,  ..., 0., 0., 0.]]]]), tensor([1, 1, 2, 8, 8, 5, 9, 0, 1, 6])]\n"
     ]
    }
   ],
   "source": [
    "#Iterate over the trainset\n",
    "#Output 10 examples of handwritten digits(x) and 10 tensors of the actual outpputs(y)\n",
    "for data in trainset:\n",
    "    print(data)\n",
    "    break"
   ]
  },
  {
   "cell_type": "code",
   "execution_count": 20,
   "id": "9f29d633-46fb-41da-a126-08723a0782bc",
   "metadata": {},
   "outputs": [
    {
     "name": "stdout",
     "output_type": "stream",
     "text": [
      "tensor(1)\n"
     ]
    }
   ],
   "source": [
    "X, y = data[0][0], data[1][0]\n",
    "\n",
    "print(y)"
   ]
  },
  {
   "cell_type": "code",
   "execution_count": 21,
   "id": "f8a06f50-52ec-4ddc-b37f-ff0fc97f3193",
   "metadata": {},
   "outputs": [
    {
     "data": {
      "text/plain": [
       "tensor([[[[0., 0., 0.,  ..., 0., 0., 0.],\n",
       "          [0., 0., 0.,  ..., 0., 0., 0.],\n",
       "          [0., 0., 0.,  ..., 0., 0., 0.],\n",
       "          ...,\n",
       "          [0., 0., 0.,  ..., 0., 0., 0.],\n",
       "          [0., 0., 0.,  ..., 0., 0., 0.],\n",
       "          [0., 0., 0.,  ..., 0., 0., 0.]]],\n",
       "\n",
       "\n",
       "        [[[0., 0., 0.,  ..., 0., 0., 0.],\n",
       "          [0., 0., 0.,  ..., 0., 0., 0.],\n",
       "          [0., 0., 0.,  ..., 0., 0., 0.],\n",
       "          ...,\n",
       "          [0., 0., 0.,  ..., 0., 0., 0.],\n",
       "          [0., 0., 0.,  ..., 0., 0., 0.],\n",
       "          [0., 0., 0.,  ..., 0., 0., 0.]]],\n",
       "\n",
       "\n",
       "        [[[0., 0., 0.,  ..., 0., 0., 0.],\n",
       "          [0., 0., 0.,  ..., 0., 0., 0.],\n",
       "          [0., 0., 0.,  ..., 0., 0., 0.],\n",
       "          ...,\n",
       "          [0., 0., 0.,  ..., 0., 0., 0.],\n",
       "          [0., 0., 0.,  ..., 0., 0., 0.],\n",
       "          [0., 0., 0.,  ..., 0., 0., 0.]]],\n",
       "\n",
       "\n",
       "        ...,\n",
       "\n",
       "\n",
       "        [[[0., 0., 0.,  ..., 0., 0., 0.],\n",
       "          [0., 0., 0.,  ..., 0., 0., 0.],\n",
       "          [0., 0., 0.,  ..., 0., 0., 0.],\n",
       "          ...,\n",
       "          [0., 0., 0.,  ..., 0., 0., 0.],\n",
       "          [0., 0., 0.,  ..., 0., 0., 0.],\n",
       "          [0., 0., 0.,  ..., 0., 0., 0.]]],\n",
       "\n",
       "\n",
       "        [[[0., 0., 0.,  ..., 0., 0., 0.],\n",
       "          [0., 0., 0.,  ..., 0., 0., 0.],\n",
       "          [0., 0., 0.,  ..., 0., 0., 0.],\n",
       "          ...,\n",
       "          [0., 0., 0.,  ..., 0., 0., 0.],\n",
       "          [0., 0., 0.,  ..., 0., 0., 0.],\n",
       "          [0., 0., 0.,  ..., 0., 0., 0.]]],\n",
       "\n",
       "\n",
       "        [[[0., 0., 0.,  ..., 0., 0., 0.],\n",
       "          [0., 0., 0.,  ..., 0., 0., 0.],\n",
       "          [0., 0., 0.,  ..., 0., 0., 0.],\n",
       "          ...,\n",
       "          [0., 0., 0.,  ..., 0., 0., 0.],\n",
       "          [0., 0., 0.,  ..., 0., 0., 0.],\n",
       "          [0., 0., 0.,  ..., 0., 0., 0.]]]])"
      ]
     },
     "execution_count": 21,
     "metadata": {},
     "output_type": "execute_result"
    }
   ],
   "source": [
    "data[0]"
   ]
  },
  {
   "cell_type": "code",
   "execution_count": 22,
   "id": "042fc9b5-1627-4f18-ba15-f64d097dc37e",
   "metadata": {},
   "outputs": [],
   "source": [
    "import matplotlib.pyplot as plt\n",
    "\n",
    "# !pip install matplotlib "
   ]
  },
  {
   "cell_type": "code",
   "execution_count": 23,
   "id": "c9525712-23b9-4cd0-929d-cd2e33faef66",
   "metadata": {},
   "outputs": [],
   "source": [
    "#plt.imshow(data[0][0])\n",
    "#plt.show()\n",
    "#data[0][0].shape"
   ]
  },
  {
   "cell_type": "code",
   "execution_count": 24,
   "id": "84662175-7d65-4639-b38d-1c2708ed1750",
   "metadata": {},
   "outputs": [
    {
     "data": {
      "image/png": "[encoded data removed]",
      "text/plain": [
       "<Figure size 640x480 with 1 Axes>"
      ]
     },
     "metadata": {},
     "output_type": "display_data"
    }
   ],
   "source": [
    "#plt.imshow(data[0][0])\n",
    "#throws shape error \n",
    "plt.imshow(data[0][0].view(28,28))\n",
    "plt.show()"
   ]
  },
  {
   "cell_type": "code",
   "execution_count": 25,
   "id": "adf97f15-b03c-457d-af4c-e7b83113fdd8",
   "metadata": {},
   "outputs": [
    {
     "name": "stdout",
     "output_type": "stream",
     "text": [
      "torch.Size([1, 28, 28])\n"
     ]
    }
   ],
   "source": [
    "print(data[0][0].shape)"
   ]
  },
  {
   "cell_type": "code",
   "execution_count": 26,
   "id": "e65d44b7-c81a-4b5d-b991-b0f0f8ccc3b9",
   "metadata": {},
   "outputs": [],
   "source": [
    "import torch.nn as nn # OOP\n",
    "import torch.nn.functional as F # acces to functions"
   ]
  },
  {
   "cell_type": "code",
   "execution_count": 27,
   "id": "3fa3b9e2-3abd-461c-a144-9a205f79c896",
   "metadata": {},
   "outputs": [
    {
     "name": "stdout",
     "output_type": "stream",
     "text": [
      "Net(\n",
      "  (fc1): Linear(in_features=784, out_features=64, bias=True)\n",
      "  (fc2): Linear(in_features=64, out_features=64, bias=True)\n",
      "  (fc3): Linear(in_features=64, out_features=64, bias=True)\n",
      "  (fc4): Linear(in_features=64, out_features=64, bias=True)\n",
      "  (fc5): Linear(in_features=64, out_features=64, bias=True)\n",
      "  (fc6): Linear(in_features=64, out_features=64, bias=True)\n",
      "  (fc7): Linear(in_features=64, out_features=10, bias=True)\n",
      ")\n"
     ]
    }
   ],
   "source": [
    "class Net(nn.Module):\n",
    "    def __init__(self):\n",
    "        super().__init__()\n",
    "        #Linear = linear layer; it connects each input node to each output node\n",
    "        self.fc1 = nn.Linear(28*28, 64)  #784 is 28*28 flattened image Input output is 64 can be any\n",
    "        self.fc2 = nn.Linear(64, 64) #Hidden layers\n",
    "        self.fc3 = nn.Linear(64, 64) #Hidden layers\n",
    "        self.fc4 = nn.Linear(64 , 64)\n",
    "        self.fc5 = nn.Linear(64 , 64)\n",
    "        self.fc6 = nn.Linear(64 , 64)\n",
    "        self.fc7 = nn.Linear(64, 10) #There are 10 classes\n",
    "        \n",
    "        #We defined our NN but no way to feed in data\n",
    "\n",
    "    def forward(self, x):\n",
    "        x = F.relu(self.fc1(x)) #  relu, activation function, rectified linear unit, keeping the data between 0 and 1\n",
    "        x = F.relu(self.fc2(x))\n",
    "        x = F.relu(self.fc3(x))\n",
    "        x = F.relu(self.fc4(x))\n",
    "        x = F.relu(self.fc5(x))\n",
    "        x = F.relu(self.fc6(x))\n",
    "        x = self.fc7(x)\n",
    "        return F.log_softmax(x, dim=1) # for the output layer\n",
    "\n",
    "net = Net()\n",
    "print(net)"
   ]
  },
  {
   "cell_type": "code",
   "execution_count": 28,
   "id": "f2b574f9-1666-4792-9035-7a1423468a33",
   "metadata": {},
   "outputs": [],
   "source": [
    "import torch.optim as optim\n",
    "\n",
    "loss_function = nn.CrossEntropyLoss()\n",
    "optimizer = optim.Adam(net.parameters(), lr=0.0025) # Adam:Adaptive momentm ,  lr: learning rate "
   ]
  },
  {
   "cell_type": "code",
   "execution_count": 29,
   "id": "258d2d20-13b3-44e7-bdff-de446baa132b",
   "metadata": {},
   "outputs": [
    {
     "name": "stdout",
     "output_type": "stream",
     "text": [
      "tensor(0.0090, grad_fn=<NllLossBackward0>)\n",
      "tensor(0.0037, grad_fn=<NllLossBackward0>)\n",
      "tensor(0.2261, grad_fn=<NllLossBackward0>)\n"
     ]
    }
   ],
   "source": [
    "for epoch in range(3): # 3 full passes over the data\n",
    "    for data in trainset:  # `data` is a batch of data \n",
    "        X, y = data  # X is the batch of features, y is the batch of targets.\n",
    "        net.zero_grad()  # sets gradients to 0 before loss calc. You will do this likely every step.\n",
    "        output = net(X.view(-1,784))  # pass in the reshaped batch (recall they are 28x28 atm)\n",
    "        loss = F.nll_loss(output, y)  # calc and grab the loss value\n",
    "        loss.backward()  # apply this loss backwards thru the network's parameters\n",
    "        optimizer.step()  # attempt to optimize weights to account for loss/gradients\n",
    "    print(loss)  # print loss. We hope loss (a measure of wrong-ness) declines! \n"
   ]
  },
  {
   "cell_type": "code",
   "execution_count": 30,
   "id": "5d2036d9-7b86-4cb8-ab39-76c9f77eb2fc",
   "metadata": {},
   "outputs": [
    {
     "name": "stdout",
     "output_type": "stream",
     "text": [
      "Accuracy:  0.959\n"
     ]
    }
   ],
   "source": [
    "correct = 0\n",
    "total = 0\n",
    "\n",
    "with torch.no_grad(): # we don't want gradients to be calculated, this is out of sample data and we just want to know how good is the network \n",
    "    for data in testset:\n",
    "        X, y = data\n",
    "        output = net(X.view(-1,784))\n",
    "        #print(output)\n",
    "        for idx, i in enumerate(output):\n",
    "            #print(torch.argmax(i), y[idx])\n",
    "            if torch.argmax(i) == y[idx]:\n",
    "                correct += 1\n",
    "            total += 1\n",
    "\n",
    "print(\"Accuracy: \", round(correct/total, 3))"
   ]
  },
  {
   "cell_type": "code",
   "execution_count": 31,
   "id": "93e943c3-c52e-43fa-91b4-21b1add5c6f7",
   "metadata": {},
   "outputs": [
    {
     "data": {
      "image/png": "[encoded data removed]",
      "text/plain": [
       "<Figure size 640x480 with 1 Axes>"
      ]
     },
     "metadata": {},
     "output_type": "display_data"
    }
   ],
   "source": [
    "import matplotlib.pyplot as plt\n",
    "plt.imshow(X[9].view(28,28))\n",
    "plt.show()"
   ]
  },
  {
   "cell_type": "code",
   "execution_count": 32,
   "id": "220d346a-9360-4af8-9e18-d1f36a48bf24",
   "metadata": {},
   "outputs": [
    {
     "name": "stdout",
     "output_type": "stream",
     "text": [
      "tensor(7)\n"
     ]
    }
   ],
   "source": [
    "print(torch.argmax(net(X[9].view(-1,784))[0]))"
   ]
  },
  {
   "cell_type": "code",
   "execution_count": 33,
   "id": "a522e258-907f-4454-bc01-169f4be250a3",
   "metadata": {},
   "outputs": [],
   "source": [
    "torch.save(net, 'model.pth')"
   ]
  },
  {
   "cell_type": "code",
   "execution_count": 34,
   "id": "05a02a6d-2951-4d6e-9bb5-383fe128de86",
   "metadata": {},
   "outputs": [],
   "source": [
    "model = torch.load('model.pth')"
   ]
  },
  {
   "cell_type": "code",
   "execution_count": 35,
   "id": "f51f0a68-b685-4454-baee-7572c44ed577",
   "metadata": {},
   "outputs": [
    {
     "name": "stdout",
     "output_type": "stream",
     "text": [
      "tensor(6)\n"
     ]
    }
   ],
   "source": [
    "print(torch.argmax(model(X[0].view(-1,784))[0]))"
   ]
  },
  {
   "cell_type": "markdown",
   "id": "6f4e95df-e76e-4227-97b4-22bd14cd5b7c",
   "metadata": {},
   "source": [
    "# More PyTorch"
   ]
  },
  {
   "cell_type": "code",
   "execution_count": 36,
   "id": "2844aa2c-4bb3-45de-b688-a958f9a4fc91",
   "metadata": {},
   "outputs": [],
   "source": [
    " '''Eventhough we are grabbing the data from Pytorch,\n",
    "    it's not in tensor format so we use the transform \n",
    "    method to convert it to tensors.'''\n",
    "\n",
    "train_dataset = torchvision.datasets.MNIST(root='./data', \n",
    "                                           train=True, \n",
    "                                           transform=transforms.ToTensor(),  \n",
    "                                           download=True)\n",
    "\n",
    "test_dataset = torchvision.datasets.MNIST(root='./data', \n",
    "                                          train=False, \n",
    "                                          transform=transforms.ToTensor())"
   ]
  },
  {
   "cell_type": "code",
   "execution_count": 37,
   "id": "a02ec9e5-f3a8-4350-b63b-5466f171a53e",
   "metadata": {},
   "outputs": [],
   "source": [
    "train_set = torch.utils.data.DataLoader(train_dataset, batch_size=10, shuffle=True) \n",
    "test_set = torch.utils.data.DataLoader(test_dataset, batch_size=10, shuffle=True)"
   ]
  },
  {
   "cell_type": "code",
   "execution_count": 38,
   "id": "0bfc06d3-bacc-4940-b4ec-a3a40ec7d695",
   "metadata": {},
   "outputs": [
    {
     "name": "stdout",
     "output_type": "stream",
     "text": [
      "[tensor([[[[0., 0., 0.,  ..., 0., 0., 0.],\n",
      "          [0., 0., 0.,  ..., 0., 0., 0.],\n",
      "          [0., 0., 0.,  ..., 0., 0., 0.],\n",
      "          ...,\n",
      "          [0., 0., 0.,  ..., 0., 0., 0.],\n",
      "          [0., 0., 0.,  ..., 0., 0., 0.],\n",
      "          [0., 0., 0.,  ..., 0., 0., 0.]]],\n",
      "\n",
      "\n",
      "        [[[0., 0., 0.,  ..., 0., 0., 0.],\n",
      "          [0., 0., 0.,  ..., 0., 0., 0.],\n",
      "          [0., 0., 0.,  ..., 0., 0., 0.],\n",
      "          ...,\n",
      "          [0., 0., 0.,  ..., 0., 0., 0.],\n",
      "          [0., 0., 0.,  ..., 0., 0., 0.],\n",
      "          [0., 0., 0.,  ..., 0., 0., 0.]]],\n",
      "\n",
      "\n",
      "        [[[0., 0., 0.,  ..., 0., 0., 0.],\n",
      "          [0., 0., 0.,  ..., 0., 0., 0.],\n",
      "          [0., 0., 0.,  ..., 0., 0., 0.],\n",
      "          ...,\n",
      "          [0., 0., 0.,  ..., 0., 0., 0.],\n",
      "          [0., 0., 0.,  ..., 0., 0., 0.],\n",
      "          [0., 0., 0.,  ..., 0., 0., 0.]]],\n",
      "\n",
      "\n",
      "        ...,\n",
      "\n",
      "\n",
      "        [[[0., 0., 0.,  ..., 0., 0., 0.],\n",
      "          [0., 0., 0.,  ..., 0., 0., 0.],\n",
      "          [0., 0., 0.,  ..., 0., 0., 0.],\n",
      "          ...,\n",
      "          [0., 0., 0.,  ..., 0., 0., 0.],\n",
      "          [0., 0., 0.,  ..., 0., 0., 0.],\n",
      "          [0., 0., 0.,  ..., 0., 0., 0.]]],\n",
      "\n",
      "\n",
      "        [[[0., 0., 0.,  ..., 0., 0., 0.],\n",
      "          [0., 0., 0.,  ..., 0., 0., 0.],\n",
      "          [0., 0., 0.,  ..., 0., 0., 0.],\n",
      "          ...,\n",
      "          [0., 0., 0.,  ..., 0., 0., 0.],\n",
      "          [0., 0., 0.,  ..., 0., 0., 0.],\n",
      "          [0., 0., 0.,  ..., 0., 0., 0.]]],\n",
      "\n",
      "\n",
      "        [[[0., 0., 0.,  ..., 0., 0., 0.],\n",
      "          [0., 0., 0.,  ..., 0., 0., 0.],\n",
      "          [0., 0., 0.,  ..., 0., 0., 0.],\n",
      "          ...,\n",
      "          [0., 0., 0.,  ..., 0., 0., 0.],\n",
      "          [0., 0., 0.,  ..., 0., 0., 0.],\n",
      "          [0., 0., 0.,  ..., 0., 0., 0.]]]]), tensor([5, 5, 7, 9, 8, 1, 4, 8, 7, 1])]\n"
     ]
    }
   ],
   "source": [
    "#Iterate over the trainset\n",
    "#Output 10 examples of handwritten digits(x) and 10 tensors of the actual outpputs(y)\n",
    "for data in train_set:\n",
    "    print(data)\n",
    "    break"
   ]
  },
  {
   "cell_type": "code",
   "execution_count": 39,
   "id": "adb778ed-2dfe-4733-ae6c-500db44ebeb5",
   "metadata": {},
   "outputs": [
    {
     "name": "stdout",
     "output_type": "stream",
     "text": [
      "tensor(5)\n"
     ]
    }
   ],
   "source": [
    "X, y = data[0][0], data[1][0]\n",
    "\n",
    "print(y)"
   ]
  },
  {
   "cell_type": "code",
   "execution_count": 40,
   "id": "6ef86f6b-fa54-4620-b508-0ef84967f2b5",
   "metadata": {},
   "outputs": [
    {
     "data": {
      "text/plain": [
       "tensor([[[[0., 0., 0.,  ..., 0., 0., 0.],\n",
       "          [0., 0., 0.,  ..., 0., 0., 0.],\n",
       "          [0., 0., 0.,  ..., 0., 0., 0.],\n",
       "          ...,\n",
       "          [0., 0., 0.,  ..., 0., 0., 0.],\n",
       "          [0., 0., 0.,  ..., 0., 0., 0.],\n",
       "          [0., 0., 0.,  ..., 0., 0., 0.]]],\n",
       "\n",
       "\n",
       "        [[[0., 0., 0.,  ..., 0., 0., 0.],\n",
       "          [0., 0., 0.,  ..., 0., 0., 0.],\n",
       "          [0., 0., 0.,  ..., 0., 0., 0.],\n",
       "          ...,\n",
       "          [0., 0., 0.,  ..., 0., 0., 0.],\n",
       "          [0., 0., 0.,  ..., 0., 0., 0.],\n",
       "          [0., 0., 0.,  ..., 0., 0., 0.]]],\n",
       "\n",
       "\n",
       "        [[[0., 0., 0.,  ..., 0., 0., 0.],\n",
       "          [0., 0., 0.,  ..., 0., 0., 0.],\n",
       "          [0., 0., 0.,  ..., 0., 0., 0.],\n",
       "          ...,\n",
       "          [0., 0., 0.,  ..., 0., 0., 0.],\n",
       "          [0., 0., 0.,  ..., 0., 0., 0.],\n",
       "          [0., 0., 0.,  ..., 0., 0., 0.]]],\n",
       "\n",
       "\n",
       "        ...,\n",
       "\n",
       "\n",
       "        [[[0., 0., 0.,  ..., 0., 0., 0.],\n",
       "          [0., 0., 0.,  ..., 0., 0., 0.],\n",
       "          [0., 0., 0.,  ..., 0., 0., 0.],\n",
       "          ...,\n",
       "          [0., 0., 0.,  ..., 0., 0., 0.],\n",
       "          [0., 0., 0.,  ..., 0., 0., 0.],\n",
       "          [0., 0., 0.,  ..., 0., 0., 0.]]],\n",
       "\n",
       "\n",
       "        [[[0., 0., 0.,  ..., 0., 0., 0.],\n",
       "          [0., 0., 0.,  ..., 0., 0., 0.],\n",
       "          [0., 0., 0.,  ..., 0., 0., 0.],\n",
       "          ...,\n",
       "          [0., 0., 0.,  ..., 0., 0., 0.],\n",
       "          [0., 0., 0.,  ..., 0., 0., 0.],\n",
       "          [0., 0., 0.,  ..., 0., 0., 0.]]],\n",
       "\n",
       "\n",
       "        [[[0., 0., 0.,  ..., 0., 0., 0.],\n",
       "          [0., 0., 0.,  ..., 0., 0., 0.],\n",
       "          [0., 0., 0.,  ..., 0., 0., 0.],\n",
       "          ...,\n",
       "          [0., 0., 0.,  ..., 0., 0., 0.],\n",
       "          [0., 0., 0.,  ..., 0., 0., 0.],\n",
       "          [0., 0., 0.,  ..., 0., 0., 0.]]]])"
      ]
     },
     "execution_count": 40,
     "metadata": {},
     "output_type": "execute_result"
    }
   ],
   "source": [
    "data[0]"
   ]
  },
  {
   "cell_type": "code",
   "execution_count": 41,
   "id": "cd754855-7e3d-4ac1-a8ad-6ee619ac0e86",
   "metadata": {},
   "outputs": [
    {
     "data": {
      "text/plain": [
       "tensor([5, 5, 7, 9, 8, 1, 4, 8, 7, 1])"
      ]
     },
     "execution_count": 41,
     "metadata": {},
     "output_type": "execute_result"
    }
   ],
   "source": [
    "data[1]"
   ]
  },
  {
   "cell_type": "code",
   "execution_count": 42,
   "id": "7dbfa821-18b9-40b9-b6fb-c30f03eb8ced",
   "metadata": {},
   "outputs": [],
   "source": [
    "import matplotlib.pyplot as plt"
   ]
  },
  {
   "cell_type": "code",
   "execution_count": 43,
   "id": "9bb266e8-c63e-4f07-bb84-bc18454ab6ae",
   "metadata": {},
   "outputs": [
    {
     "data": {
      "image/png": "[encoded data removed]",
      "text/plain": [
       "<Figure size 640x480 with 1 Axes>"
      ]
     },
     "metadata": {},
     "output_type": "display_data"
    }
   ],
   "source": [
    "#plt.imshow(data[0][0])\n",
    "#throws shape error \n",
    "plt.imshow(data[0][0].view(28,28), cmap='gray')\n",
    "plt.show()"
   ]
  },
  {
   "cell_type": "code",
   "execution_count": 44,
   "id": "f3719923-6990-4ab0-8853-aabdb1f47f92",
   "metadata": {},
   "outputs": [
    {
     "name": "stdout",
     "output_type": "stream",
     "text": [
      "torch.Size([1, 28, 28])\n"
     ]
    }
   ],
   "source": [
    "print(data[0][0].shape)"
   ]
  },
  {
   "cell_type": "code",
   "execution_count": 45,
   "id": "a59f20ae-9550-4720-890b-c3974ccd2821",
   "metadata": {},
   "outputs": [
    {
     "data": {
      "text/plain": [
       "6000"
      ]
     },
     "execution_count": 45,
     "metadata": {},
     "output_type": "execute_result"
    }
   ],
   "source": [
    "len(train_set)"
   ]
  },
  {
   "cell_type": "code",
   "execution_count": 46,
   "id": "397a9b19-3a45-4289-8734-4714699450dc",
   "metadata": {},
   "outputs": [
    {
     "data": {
      "text/plain": [
       "1000"
      ]
     },
     "execution_count": 46,
     "metadata": {},
     "output_type": "execute_result"
    }
   ],
   "source": [
    "len(test_set)"
   ]
  },
  {
   "cell_type": "code",
   "execution_count": 47,
   "id": "f09b36b4-b44d-4ab1-902d-7988a604df3e",
   "metadata": {},
   "outputs": [],
   "source": [
    "import torch.nn as nn # OOP\n",
    "import torch.nn.functional as F"
   ]
  },
  {
   "cell_type": "code",
   "execution_count": 55,
   "id": "826e8a54-8072-4654-a458-b7b2ba7ea468",
   "metadata": {},
   "outputs": [
    {
     "name": "stdout",
     "output_type": "stream",
     "text": [
      "Net(\n",
      "  (fc1): Linear(in_features=784, out_features=64, bias=True)\n",
      "  (fc2): Linear(in_features=64, out_features=64, bias=True)\n",
      "  (fc3): Linear(in_features=64, out_features=64, bias=True)\n",
      "  (fc4): Linear(in_features=64, out_features=64, bias=True)\n",
      "  (fc5): Linear(in_features=64, out_features=64, bias=True)\n",
      "  (fc6): Linear(in_features=64, out_features=64, bias=True)\n",
      "  (fc7): Linear(in_features=64, out_features=10, bias=True)\n",
      ")\n"
     ]
    }
   ],
   "source": [
    "class Net(nn.Module):\n",
    "    def __init__(self):\n",
    "        super().__init__()\n",
    "        self.fc1 = nn.Linear(28*28, 64)  #784 is 28*28 flattened image Input output is 64 can be any\n",
    "        self.fc2 = nn.Linear(64, 64) #Hidden layers\n",
    "        self.fc3 = nn.Linear(64 , 64)\n",
    "        self.fc4 = nn.Linear(64 , 64)\n",
    "        self.fc5 = nn.Linear(64 , 64)\n",
    "        self.fc6 = nn.Linear(64 , 64)\n",
    "        self.fc7 = nn.Linear(64, 10) #There are 10 classes\n",
    "        \n",
    "        #We defined our NN but no way to feed in data\n",
    "\n",
    "    def forward(self, x):\n",
    "        x = F.relu(self.fc1(x)) #  relu, activation function\n",
    "        x = F.relu(self.fc2(x))\n",
    "        x = F.relu(self.fc3(x))\n",
    "        x = F.relu(self.fc4(x))\n",
    "        x = F.relu(self.fc5(x))\n",
    "        x = F.relu(self.fc6(x))\n",
    "        output = self.fc7(x) #No activation\n",
    "        return output\n",
    "        \n",
    "\n",
    "net = Net()\n",
    "print(model)"
   ]
  },
  {
   "cell_type": "code",
   "execution_count": 56,
   "id": "d5b2baf0-d52d-4579-8ddf-7e5a5b4f9663",
   "metadata": {},
   "outputs": [],
   "source": [
    "import torch.optim as optim\n",
    "\n",
    "loss_function = nn.CrossEntropyLoss()\n",
    "optimizer = optim.Adam(net.parameters(), lr=0.001) # Adam:Adaptive momentm ,  lr: learning rate "
   ]
  },
  {
   "cell_type": "code",
   "execution_count": 57,
   "id": "6c1915c9-f1f7-4e03-999c-4500e3838e20",
   "metadata": {},
   "outputs": [],
   "source": [
    "class Binary_Net(nn.Module):\n",
    "    def __init__(self):\n",
    "        super().__init__()\n",
    "        self.fc1 = nn.Linear(28*28, 64)  #784 is 28*28 flattened image Input output is 64 can be any\n",
    "        self.fc2 = nn.Linear(64, 64) #Hidden layers\n",
    "        self.fc3 = nn.Linear(64 , 64)\n",
    "        self.fc4 = nn.Linear(64 , 64)\n",
    "        self.fc5 = nn.Linear(64 , 64)\n",
    "        self.fc6 = nn.Linear(64 , 64)\n",
    "        self.fc7 = nn.Linear(64, 1) #one out put Yes or No\n",
    "        \n",
    "        #\n",
    "\n",
    "    def forward(self, x):\n",
    "        x = F.relu(self.fc1(x)) #  relu, activation function\n",
    "        x = F.relu(self.fc2(x))\n",
    "        x = F.relu(self.fc3(x))\n",
    "        x = F.relu(self.fc4(x))\n",
    "        x = F.relu(self.fc5(x))\n",
    "        x = F.relu(self.fc6(x))\n",
    "        output = self.fc7(x) \n",
    "        #Sigmoid at the end\n",
    "        y_pred = torch.sigmoid(output)\n",
    "        return ypred\n",
    "        #F.log_softmax(x, dim=1)"
   ]
  },
  {
   "cell_type": "code",
   "execution_count": 58,
   "id": "d0a2b8a8-4aba-41eb-b167-f9c1ec9bb3cd",
   "metadata": {},
   "outputs": [
    {
     "name": "stdout",
     "output_type": "stream",
     "text": [
      "Epoch [1/3], Step [3000/6000], Loss: 0.1636\n",
      "Epoch [1/3], Step [6000/6000], Loss: 0.0301\n",
      "Epoch [2/3], Step [3000/6000], Loss: 0.4500\n",
      "Epoch [2/3], Step [6000/6000], Loss: 0.5147\n",
      "Epoch [3/3], Step [3000/6000], Loss: 0.2350\n",
      "Epoch [3/3], Step [6000/6000], Loss: 0.0038\n"
     ]
    }
   ],
   "source": [
    "# Train the model\n",
    "n_total_steps = len(train_set)\n",
    "num_epochs = 3\n",
    "\n",
    "for epoch in range(num_epochs): #3 full passes over the data\n",
    "    for i, (images, labels) in enumerate(train_set):  \n",
    "        # origin shape: [10, 1, 28, 28]\n",
    "        # resized: [10, 784]\n",
    "        images = images.reshape(-1, 28*28) #with -1 Pytorch will automatically identify the first dimentions\n",
    "        labels = labels\n",
    "        \n",
    "        \n",
    "        # Forward pass\n",
    "        outputs = net(images) # pass in the reshaped batch (recall they are 28x28 atm)\n",
    "        loss = loss_function(outputs, labels) # calculate and grab the loss value\n",
    "        \n",
    "        # Backward and optimize\n",
    "        optimizer.zero_grad()\n",
    "        loss.backward()  # apply this loss backwards thru the network's parameters\n",
    "        optimizer.step() # attempt to optimize weights to account for loss/gradients\n",
    "        \n",
    "        if (i+1) % 3000 == 0: #Every 3000 steps prinyt some info \n",
    "            print (f'Epoch [{epoch+1}/{num_epochs}], Step [{i+1}/{n_total_steps}], Loss: {loss.item():.4f}')"
   ]
  },
  {
   "cell_type": "code",
   "execution_count": 59,
   "id": "240ca6e5-ba03-481b-adb9-d44fb8b9a28e",
   "metadata": {},
   "outputs": [
    {
     "name": "stdout",
     "output_type": "stream",
     "text": [
      "Accuracy of the network on the 10000 test images: 96.31 %\n"
     ]
    }
   ],
   "source": [
    "# Test the model\n",
    "# In test phase, we don't need to compute gradients (for memory efficiency)\n",
    "# This is out of sample data and we just want to know how good is the network \n",
    "\n",
    "with torch.no_grad():\n",
    "    n_correct = 0\n",
    "    n_samples = 0\n",
    "    for images, labels in test_set:\n",
    "        images = images.reshape(-1, 28*28)\n",
    "        labels = labels\n",
    "        outputs = net(images)\n",
    "        \n",
    "        for idx, i in enumerate(outputs):\n",
    "            #print(torch.argmax(i), y[idx])\n",
    "            if torch.argmax(i) == labels[idx]:\n",
    "                n_correct += 1\n",
    "            n_samples += 1\n",
    "\n",
    "    acc = 100.0 * n_correct / n_samples\n",
    "    print(f'Accuracy of the network on the 10000 test images: {acc} %')\n",
    "\n"
   ]
  },
  {
   "cell_type": "code",
   "execution_count": 60,
   "id": "987a20d3-e03f-44fc-9227-8c9259d1f29f",
   "metadata": {},
   "outputs": [],
   "source": [
    "# get some random testing images\n",
    "dataiter = iter(test_set)\n",
    "images, labels = next(dataiter)"
   ]
  },
  {
   "cell_type": "code",
   "execution_count": 61,
   "id": "7a3f1d81-c7da-4694-9409-cd0af860fe70",
   "metadata": {},
   "outputs": [
    {
     "data": {
      "image/png": "[encoded data removed]",
      "text/plain": [
       "<Figure size 640x480 with 1 Axes>"
      ]
     },
     "metadata": {},
     "output_type": "display_data"
    }
   ],
   "source": [
    "import matplotlib.pyplot as plt\n",
    "plt.imshow(images[2].view(28,28))\n",
    "plt.show()"
   ]
  },
  {
   "cell_type": "code",
   "execution_count": 62,
   "id": "0f871031-03b0-4c1d-b5f6-f5129b8618bd",
   "metadata": {},
   "outputs": [
    {
     "name": "stdout",
     "output_type": "stream",
     "text": [
      "tensor(1)\n"
     ]
    }
   ],
   "source": [
    "print(torch.argmax(net(images[2].view(-1,784))[0]))"
   ]
  },
  {
   "cell_type": "code",
   "execution_count": 63,
   "id": "1b065d62-3d27-4a1e-9a83-99cd43888b62",
   "metadata": {},
   "outputs": [],
   "source": [
    "import os\n",
    "import torch\n",
    "\n",
    "# Define your model here\n",
    "# net = YourModel()\n",
    "\n",
    "# Ensure the directory exists\n",
    "model_path = 'Models'\n",
    "model_filename = 'torch_model.pth'\n",
    "full_path = os.path.join(model_path, model_filename)\n",
    "\n",
    "if not os.path.exists(model_path):\n",
    "    os.makedirs(model_path)\n",
    "\n",
    "# Save the model\n",
    "torch.save(net, full_path)\n"
   ]
  },
  {
   "cell_type": "code",
   "execution_count": null,
   "id": "6cef1af8-a404-4565-b819-a2b87f0e7747",
   "metadata": {},
   "outputs": [],
   "source": [
    "model = torch.load('Models/torch_model.pth')"
   ]
  },
  {
   "cell_type": "markdown",
   "id": "3c3726e4-fa76-46d8-acf6-9ed87fdae84a",
   "metadata": {},
   "source": [
    "# Experiment 7 layers, 64 neurons"
   ]
  },
  {
   "cell_type": "markdown",
   "id": "6c6dbcf2-afec-4c18-80ab-1c98bcff4d14",
   "metadata": {},
   "source": [
    "## LR=0.001"
   ]
  },
  {
   "cell_type": "code",
   "execution_count": 71,
   "id": "6324eb87-02a8-4d66-b110-55081d1e4763",
   "metadata": {},
   "outputs": [
    {
     "name": "stdout",
     "output_type": "stream",
     "text": [
      "Epoch [1/3], Step [3000/6000], Loss: 0.0007\n",
      "Epoch [1/3], Step [6000/6000], Loss: 0.0005\n",
      "Epoch [2/3], Step [3000/6000], Loss: 0.0015\n",
      "Epoch [2/3], Step [6000/6000], Loss: 0.4410\n",
      "Epoch [3/3], Step [3000/6000], Loss: 0.0110\n",
      "Epoch [3/3], Step [6000/6000], Loss: 0.1680\n"
     ]
    }
   ],
   "source": [
    "import torch.optim as optim\n",
    "\n",
    "loss_function = nn.CrossEntropyLoss()\n",
    "optimizer = optim.Adam(net.parameters(), lr=0.001) # Adam:Adaptive momentm ,  lr: learning rate \n",
    "class Binary_Net(nn.Module):\n",
    "    def __init__(self):\n",
    "        super().__init__()\n",
    "        self.fc1 = nn.Linear(28*28, 64)  #784 is 28*28 flattened image Input output is 64 can be any\n",
    "        self.fc2 = nn.Linear(64, 64) #Hidden layers\n",
    "        self.fc3 = nn.Linear(64 , 64)\n",
    "        self.fc4 = nn.Linear(64 , 64)\n",
    "        self.fc5 = nn.Linear(64 , 64)\n",
    "        self.fc6 = nn.Linear(64 , 64)\n",
    "        self.fc7 = nn.Linear(64, 1) #one out put Yes or No\n",
    "        \n",
    "        #\n",
    "\n",
    "    def forward(self, x):\n",
    "        x = F.relu(self.fc1(x)) #  relu, activation function\n",
    "        x = F.relu(self.fc2(x))\n",
    "        x = F.relu(self.fc3(x))\n",
    "        x = F.relu(self.fc4(x))\n",
    "        x = F.relu(self.fc5(x))\n",
    "        x = F.relu(self.fc6(x))\n",
    "        output = self.fc7(x) \n",
    "        #Sigmoid at the end\n",
    "        y_pred = torch.sigmoid(output)\n",
    "        return ypred\n",
    "        #F.log_softmax(x, dim=1)\n",
    "# Train the model\n",
    "n_total_steps = len(train_set)\n",
    "num_epochs = 3\n",
    "\n",
    "for epoch in range(num_epochs): #3 full passes over the data\n",
    "    for i, (images, labels) in enumerate(train_set):  \n",
    "        # origin shape: [10, 1, 28, 28]\n",
    "        # resized: [10, 784]\n",
    "        images = images.reshape(-1, 28*28) #with -1 Pytorch will automatically identify the first dimentions\n",
    "        labels = labels\n",
    "        \n",
    "        \n",
    "        # Forward pass\n",
    "        outputs = net(images) # pass in the reshaped batch (recall they are 28x28 atm)\n",
    "        loss = loss_function(outputs, labels) # calculate and grab the loss value\n",
    "        \n",
    "        # Backward and optimize\n",
    "        optimizer.zero_grad()\n",
    "        loss.backward()  # apply this loss backwards thru the network's parameters\n",
    "        optimizer.step() # attempt to optimize weights to account for loss/gradients\n",
    "        \n",
    "        if (i+1) % 3000 == 0: #Every 3000 steps prinyt some info \n",
    "            print (f'Epoch [{epoch+1}/{num_epochs}], Step [{i+1}/{n_total_steps}], Loss: {loss.item():.4f}')"
   ]
  },
  {
   "cell_type": "code",
   "execution_count": 72,
   "id": "96719375-1fbd-4d04-b4a2-b14efde4b5d8",
   "metadata": {},
   "outputs": [
    {
     "name": "stdout",
     "output_type": "stream",
     "text": [
      "Accuracy of the network on the 10000 test images: 97.18 %\n"
     ]
    }
   ],
   "source": [
    "# Test the model\n",
    "# In test phase, we don't need to compute gradients (for memory efficiency)\n",
    "# This is out of sample data and we just want to know how good is the network \n",
    "\n",
    "with torch.no_grad():\n",
    "    n_correct = 0\n",
    "    n_samples = 0\n",
    "    for images, labels in test_set:\n",
    "        images = images.reshape(-1, 28*28)\n",
    "        labels = labels\n",
    "        outputs = net(images)\n",
    "        \n",
    "        for idx, i in enumerate(outputs):\n",
    "            #print(torch.argmax(i), y[idx])\n",
    "            if torch.argmax(i) == labels[idx]:\n",
    "                n_correct += 1\n",
    "            n_samples += 1\n",
    "\n",
    "    acc = 100.0 * n_correct / n_samples\n",
    "    print(f'Accuracy of the network on the 10000 test images: {acc} %')\n",
    "\n"
   ]
  },
  {
   "cell_type": "markdown",
   "id": "29a56209-dba3-45db-8bca-2651db1cee78",
   "metadata": {},
   "source": [
    "## LR=0.0025"
   ]
  },
  {
   "cell_type": "code",
   "execution_count": 76,
   "id": "a1ed3a12-28ff-40f5-8ed5-f3f9d5b375dc",
   "metadata": {},
   "outputs": [
    {
     "name": "stdout",
     "output_type": "stream",
     "text": [
      "Epoch [1/3], Step [3000/6000], Loss: 0.0093\n",
      "Epoch [1/3], Step [6000/6000], Loss: 0.5914\n",
      "Epoch [2/3], Step [3000/6000], Loss: 0.0135\n",
      "Epoch [2/3], Step [6000/6000], Loss: 0.0006\n",
      "Epoch [3/3], Step [3000/6000], Loss: 0.0281\n",
      "Epoch [3/3], Step [6000/6000], Loss: 0.0115\n"
     ]
    }
   ],
   "source": [
    "import torch.optim as optim\n",
    "\n",
    "loss_function = nn.CrossEntropyLoss()\n",
    "optimizer = optim.Adam(net.parameters(), lr=0.0025) # Adam:Adaptive momentm ,  lr: learning rate \n",
    "class Binary_Net(nn.Module):\n",
    "    def __init__(self):\n",
    "        super().__init__()\n",
    "        self.fc1 = nn.Linear(28*28, 64)  #784 is 28*28 flattened image Input output is 64 can be any\n",
    "        self.fc2 = nn.Linear(64, 64) #Hidden layers\n",
    "        self.fc3 = nn.Linear(64 , 64)\n",
    "        self.fc4 = nn.Linear(64 , 64)\n",
    "        self.fc5 = nn.Linear(64 , 64)\n",
    "        self.fc6 = nn.Linear(64 , 64)\n",
    "        self.fc7 = nn.Linear(64, 1) #one out put Yes or No\n",
    "        \n",
    "        #\n",
    "\n",
    "    def forward(self, x):\n",
    "        x = F.relu(self.fc1(x)) #  relu, activation function\n",
    "        x = F.relu(self.fc2(x))\n",
    "        x = F.relu(self.fc3(x))\n",
    "        x = F.relu(self.fc4(x))\n",
    "        x = F.relu(self.fc5(x))\n",
    "        x = F.relu(self.fc6(x))\n",
    "        output = self.fc7(x) \n",
    "        #Sigmoid at the end\n",
    "        y_pred = torch.sigmoid(output)\n",
    "        return ypred\n",
    "        #F.log_softmax(x, dim=1)\n",
    "# Train the model\n",
    "n_total_steps = len(train_set)\n",
    "num_epochs = 3\n",
    "\n",
    "for epoch in range(num_epochs): #3 full passes over the data\n",
    "    for i, (images, labels) in enumerate(train_set):  \n",
    "        # origin shape: [10, 1, 28, 28]\n",
    "        # resized: [10, 784]\n",
    "        images = images.reshape(-1, 28*28) #with -1 Pytorch will automatically identify the first dimentions\n",
    "        labels = labels\n",
    "        \n",
    "        \n",
    "        # Forward pass\n",
    "        outputs = net(images) # pass in the reshaped batch (recall they are 28x28 atm)\n",
    "        loss = loss_function(outputs, labels) # calculate and grab the loss value\n",
    "        \n",
    "        # Backward and optimize\n",
    "        optimizer.zero_grad()\n",
    "        loss.backward()  # apply this loss backwards thru the network's parameters\n",
    "        optimizer.step() # attempt to optimize weights to account for loss/gradients\n",
    "        \n",
    "        if (i+1) % 3000 == 0: #Every 3000 steps prinyt some info \n",
    "            print (f'Epoch [{epoch+1}/{num_epochs}], Step [{i+1}/{n_total_steps}], Loss: {loss.item():.4f}')"
   ]
  },
  {
   "cell_type": "code",
   "execution_count": 77,
   "id": "5a6829ca-6385-4807-a43c-1f8a8f966652",
   "metadata": {},
   "outputs": [
    {
     "name": "stdout",
     "output_type": "stream",
     "text": [
      "Accuracy of the network on the 10000 test images: 96.42 %\n"
     ]
    }
   ],
   "source": [
    "# Test the model\n",
    "# In test phase, we don't need to compute gradients (for memory efficiency)\n",
    "# This is out of sample data and we just want to know how good is the network \n",
    "\n",
    "with torch.no_grad():\n",
    "    n_correct = 0\n",
    "    n_samples = 0\n",
    "    for images, labels in test_set:\n",
    "        images = images.reshape(-1, 28*28)\n",
    "        labels = labels\n",
    "        outputs = net(images)\n",
    "        \n",
    "        for idx, i in enumerate(outputs):\n",
    "            #print(torch.argmax(i), y[idx])\n",
    "            if torch.argmax(i) == labels[idx]:\n",
    "                n_correct += 1\n",
    "            n_samples += 1\n",
    "\n",
    "    acc = 100.0 * n_correct / n_samples\n",
    "    print(f'Accuracy of the network on the 10000 test images: {acc} %')"
   ]
  },
  {
   "cell_type": "markdown",
   "id": "38b7be13-c3f7-471d-a3b8-aa011063e99e",
   "metadata": {},
   "source": [
    "## LR=0.003"
   ]
  },
  {
   "cell_type": "code",
   "execution_count": 78,
   "id": "b73c2d8b-b48e-4a0c-a50e-d71efcb1ad82",
   "metadata": {},
   "outputs": [
    {
     "name": "stdout",
     "output_type": "stream",
     "text": [
      "Epoch [1/3], Step [3000/6000], Loss: 0.0666\n",
      "Epoch [1/3], Step [6000/6000], Loss: 0.8067\n",
      "Epoch [2/3], Step [3000/6000], Loss: 0.0112\n",
      "Epoch [2/3], Step [6000/6000], Loss: 0.0544\n",
      "Epoch [3/3], Step [3000/6000], Loss: 0.1749\n",
      "Epoch [3/3], Step [6000/6000], Loss: 0.2223\n"
     ]
    }
   ],
   "source": [
    "import torch.optim as optim\n",
    "\n",
    "loss_function = nn.CrossEntropyLoss()\n",
    "optimizer = optim.Adam(net.parameters(), lr=0.003) # Adam:Adaptive momentm ,  lr: learning rate \n",
    "class Binary_Net(nn.Module):\n",
    "    def __init__(self):\n",
    "        super().__init__()\n",
    "        self.fc1 = nn.Linear(28*28, 64)  #784 is 28*28 flattened image Input output is 64 can be any\n",
    "        self.fc2 = nn.Linear(64, 64) #Hidden layers\n",
    "        self.fc3 = nn.Linear(64 , 64)\n",
    "        self.fc4 = nn.Linear(64 , 64)\n",
    "        self.fc5 = nn.Linear(64 , 64)\n",
    "        self.fc6 = nn.Linear(64 , 64)\n",
    "        self.fc7 = nn.Linear(64, 1) #one out put Yes or No\n",
    "        \n",
    "        #\n",
    "\n",
    "    def forward(self, x):\n",
    "        x = F.relu(self.fc1(x)) #  relu, activation function\n",
    "        x = F.relu(self.fc2(x))\n",
    "        x = F.relu(self.fc3(x))\n",
    "        x = F.relu(self.fc4(x))\n",
    "        x = F.relu(self.fc5(x))\n",
    "        x = F.relu(self.fc6(x))\n",
    "        output = self.fc7(x) \n",
    "        #Sigmoid at the end\n",
    "        y_pred = torch.sigmoid(output)\n",
    "        return ypred\n",
    "        #F.log_softmax(x, dim=1)\n",
    "# Train the model\n",
    "n_total_steps = len(train_set)\n",
    "num_epochs = 3\n",
    "\n",
    "for epoch in range(num_epochs): #3 full passes over the data\n",
    "    for i, (images, labels) in enumerate(train_set):  \n",
    "        # origin shape: [10, 1, 28, 28]\n",
    "        # resized: [10, 784]\n",
    "        images = images.reshape(-1, 28*28) #with -1 Pytorch will automatically identify the first dimentions\n",
    "        labels = labels\n",
    "        \n",
    "        \n",
    "        # Forward pass\n",
    "        outputs = net(images) # pass in the reshaped batch (recall they are 28x28 atm)\n",
    "        loss = loss_function(outputs, labels) # calculate and grab the loss value\n",
    "        \n",
    "        # Backward and optimize\n",
    "        optimizer.zero_grad()\n",
    "        loss.backward()  # apply this loss backwards thru the network's parameters\n",
    "        optimizer.step() # attempt to optimize weights to account for loss/gradients\n",
    "        \n",
    "        if (i+1) % 3000 == 0: #Every 3000 steps prinyt some info \n",
    "            print (f'Epoch [{epoch+1}/{num_epochs}], Step [{i+1}/{n_total_steps}], Loss: {loss.item():.4f}')"
   ]
  },
  {
   "cell_type": "code",
   "execution_count": 79,
   "id": "9906cb53-44d2-4cd1-8f94-dd3b347d7bce",
   "metadata": {},
   "outputs": [
    {
     "name": "stdout",
     "output_type": "stream",
     "text": [
      "Accuracy of the network on the 10000 test images: 96.84 %\n"
     ]
    }
   ],
   "source": [
    "# Test the model\n",
    "# In test phase, we don't need to compute gradients (for memory efficiency)\n",
    "# This is out of sample data and we just want to know how good is the network \n",
    "\n",
    "with torch.no_grad():\n",
    "    n_correct = 0\n",
    "    n_samples = 0\n",
    "    for images, labels in test_set:\n",
    "        images = images.reshape(-1, 28*28)\n",
    "        labels = labels\n",
    "        outputs = net(images)\n",
    "        \n",
    "        for idx, i in enumerate(outputs):\n",
    "            #print(torch.argmax(i), y[idx])\n",
    "            if torch.argmax(i) == labels[idx]:\n",
    "                n_correct += 1\n",
    "            n_samples += 1\n",
    "\n",
    "    acc = 100.0 * n_correct / n_samples\n",
    "    print(f'Accuracy of the network on the 10000 test images: {acc} %')"
   ]
  },
  {
   "cell_type": "markdown",
   "id": "3b3c1a88-972a-4d8e-b267-30b22c1894e9",
   "metadata": {},
   "source": [
    "# Experiment 7 layers, 100 neurons"
   ]
  },
  {
   "cell_type": "markdown",
   "id": "ea3fd214-7b63-4cf0-bce9-53a87285bd9f",
   "metadata": {},
   "source": [
    "## LR=0.001"
   ]
  },
  {
   "cell_type": "code",
   "execution_count": 80,
   "id": "9dd0cccf-5012-46a0-9a7d-8741c272daec",
   "metadata": {},
   "outputs": [
    {
     "name": "stdout",
     "output_type": "stream",
     "text": [
      "Epoch [1/3], Step [3000/6000], Loss: 0.0798\n",
      "Epoch [1/3], Step [6000/6000], Loss: 0.0240\n",
      "Epoch [2/3], Step [3000/6000], Loss: 0.0002\n",
      "Epoch [2/3], Step [6000/6000], Loss: 0.0001\n",
      "Epoch [3/3], Step [3000/6000], Loss: 0.1424\n",
      "Epoch [3/3], Step [6000/6000], Loss: 0.0000\n"
     ]
    }
   ],
   "source": [
    "import torch.optim as optim\n",
    "\n",
    "loss_function = nn.CrossEntropyLoss()\n",
    "optimizer = optim.Adam(net.parameters(), lr=0.001) # Adam:Adaptive momentm ,  lr: learning rate \n",
    "class Binary_Net(nn.Module):\n",
    "    def __init__(self):\n",
    "        super().__init__()\n",
    "        self.fc1 = nn.Linear(28*28, 100)  #784 is 28*28 flattened image Input output is 64 can be any\n",
    "        self.fc2 = nn.Linear(100, 100) #Hidden layers\n",
    "        self.fc3 = nn.Linear(100 , 100)\n",
    "        self.fc4 = nn.Linear(100, 100)\n",
    "        self.fc5 = nn.Linear(100, 100)\n",
    "        self.fc6 = nn.Linear(100, 100)\n",
    "        self.fc7 = nn.Linear(100, 1) #one out put Yes or No\n",
    "        \n",
    "        #\n",
    "\n",
    "    def forward(self, x):\n",
    "        x = F.relu(self.fc1(x)) #  relu, activation function\n",
    "        x = F.relu(self.fc2(x))\n",
    "        x = F.relu(self.fc3(x))\n",
    "        x = F.relu(self.fc4(x))\n",
    "        x = F.relu(self.fc5(x))\n",
    "        x = F.relu(self.fc6(x))\n",
    "        output = self.fc7(x) \n",
    "        #Sigmoid at the end\n",
    "        y_pred = torch.sigmoid(output)\n",
    "        return ypred\n",
    "        #F.log_softmax(x, dim=1)\n",
    "# Train the model\n",
    "n_total_steps = len(train_set)\n",
    "num_epochs = 3\n",
    "\n",
    "for epoch in range(num_epochs): #3 full passes over the data\n",
    "    for i, (images, labels) in enumerate(train_set):  \n",
    "        # origin shape: [10, 1, 28, 28]\n",
    "        # resized: [10, 784]\n",
    "        images = images.reshape(-1, 28*28) #with -1 Pytorch will automatically identify the first dimentions\n",
    "        labels = labels\n",
    "        \n",
    "        \n",
    "        # Forward pass\n",
    "        outputs = net(images) # pass in the reshaped batch (recall they are 28x28 atm)\n",
    "        loss = loss_function(outputs, labels) # calculate and grab the loss value\n",
    "        \n",
    "        # Backward and optimize\n",
    "        optimizer.zero_grad()\n",
    "        loss.backward()  # apply this loss backwards thru the network's parameters\n",
    "        optimizer.step() # attempt to optimize weights to account for loss/gradients\n",
    "        \n",
    "        if (i+1) % 3000 == 0: #Every 3000 steps prinyt some info \n",
    "            print (f'Epoch [{epoch+1}/{num_epochs}], Step [{i+1}/{n_total_steps}], Loss: {loss.item():.4f}')"
   ]
  },
  {
   "cell_type": "code",
   "execution_count": 81,
   "id": "8030c31f-2a2c-44d5-88e6-66354c5e64b7",
   "metadata": {},
   "outputs": [
    {
     "name": "stdout",
     "output_type": "stream",
     "text": [
      "Accuracy of the network on the 10000 test images: 97.76 %\n"
     ]
    }
   ],
   "source": [
    "# Test the model\n",
    "# In test phase, we don't need to compute gradients (for memory efficiency)\n",
    "# This is out of sample data and we just want to know how good is the network \n",
    "\n",
    "with torch.no_grad():\n",
    "    n_correct = 0\n",
    "    n_samples = 0\n",
    "    for images, labels in test_set:\n",
    "        images = images.reshape(-1, 28*28)\n",
    "        labels = labels\n",
    "        outputs = net(images)\n",
    "        \n",
    "        for idx, i in enumerate(outputs):\n",
    "            #print(torch.argmax(i), y[idx])\n",
    "            if torch.argmax(i) == labels[idx]:\n",
    "                n_correct += 1\n",
    "            n_samples += 1\n",
    "\n",
    "    acc = 100.0 * n_correct / n_samples\n",
    "    print(f'Accuracy of the network on the 10000 test images: {acc} %')"
   ]
  },
  {
   "cell_type": "markdown",
   "id": "a0113f17-e39b-4544-afd2-f76daa4c2426",
   "metadata": {},
   "source": [
    "## LR=0.0025"
   ]
  },
  {
   "cell_type": "code",
   "execution_count": 83,
   "id": "fddae7e0-7890-4d76-8199-9ce73b96efc3",
   "metadata": {},
   "outputs": [
    {
     "name": "stdout",
     "output_type": "stream",
     "text": [
      "Epoch [1/3], Step [3000/6000], Loss: 0.0011\n",
      "Epoch [1/3], Step [6000/6000], Loss: 0.0443\n",
      "Epoch [2/3], Step [3000/6000], Loss: 0.0355\n",
      "Epoch [2/3], Step [6000/6000], Loss: 0.0003\n",
      "Epoch [3/3], Step [3000/6000], Loss: 0.0021\n",
      "Epoch [3/3], Step [6000/6000], Loss: 0.0086\n"
     ]
    }
   ],
   "source": [
    "import torch.optim as optim\n",
    "\n",
    "loss_function = nn.CrossEntropyLoss()\n",
    "optimizer = optim.Adam(net.parameters(), lr=0.0025) # Adam:Adaptive momentm ,  lr: learning rate \n",
    "class Binary_Net(nn.Module):\n",
    "    def __init__(self):\n",
    "        super().__init__()\n",
    "        self.fc1 = nn.Linear(28*28, 100)  #784 is 28*28 flattened image Input output is 64 can be any\n",
    "        self.fc2 = nn.Linear(100, 100) #Hidden layers\n",
    "        self.fc3 = nn.Linear(100 , 100)\n",
    "        self.fc4 = nn.Linear(100, 100)\n",
    "        self.fc5 = nn.Linear(100, 100)\n",
    "        self.fc6 = nn.Linear(100, 100)\n",
    "        self.fc7 = nn.Linear(100, 1) #one out put Yes or No\n",
    "        \n",
    "        #\n",
    "\n",
    "    def forward(self, x):\n",
    "        x = F.relu(self.fc1(x)) #  relu, activation function\n",
    "        x = F.relu(self.fc2(x))\n",
    "        x = F.relu(self.fc3(x))\n",
    "        x = F.relu(self.fc4(x))\n",
    "        x = F.relu(self.fc5(x))\n",
    "        x = F.relu(self.fc6(x))\n",
    "        output = self.fc7(x) \n",
    "        #Sigmoid at the end\n",
    "        y_pred = torch.sigmoid(output)\n",
    "        return ypred\n",
    "        #F.log_softmax(x, dim=1)\n",
    "# Train the model\n",
    "n_total_steps = len(train_set)\n",
    "num_epochs = 3\n",
    "\n",
    "for epoch in range(num_epochs): #3 full passes over the data\n",
    "    for i, (images, labels) in enumerate(train_set):  \n",
    "        # origin shape: [10, 1, 28, 28]\n",
    "        # resized: [10, 784]\n",
    "        images = images.reshape(-1, 28*28) #with -1 Pytorch will automatically identify the first dimentions\n",
    "        labels = labels\n",
    "        \n",
    "        \n",
    "        # Forward pass\n",
    "        outputs = net(images) # pass in the reshaped batch (recall they are 28x28 atm)\n",
    "        loss = loss_function(outputs, labels) # calculate and grab the loss value\n",
    "        \n",
    "        # Backward and optimize\n",
    "        optimizer.zero_grad()\n",
    "        loss.backward()  # apply this loss backwards thru the network's parameters\n",
    "        optimizer.step() # attempt to optimize weights to account for loss/gradients\n",
    "        \n",
    "        if (i+1) % 3000 == 0: #Every 3000 steps prinyt some info \n",
    "            print (f'Epoch [{epoch+1}/{num_epochs}], Step [{i+1}/{n_total_steps}], Loss: {loss.item():.4f}')"
   ]
  },
  {
   "cell_type": "code",
   "execution_count": 84,
   "id": "d1d76fbf-9271-478d-a42a-14cf4ecea3f4",
   "metadata": {},
   "outputs": [
    {
     "name": "stdout",
     "output_type": "stream",
     "text": [
      "Accuracy of the network on the 10000 test images: 96.84 %\n"
     ]
    }
   ],
   "source": [
    "# Test the model\n",
    "# In test phase, we don't need to compute gradients (for memory efficiency)\n",
    "# This is out of sample data and we just want to know how good is the network \n",
    "\n",
    "with torch.no_grad():\n",
    "    n_correct = 0\n",
    "    n_samples = 0\n",
    "    for images, labels in test_set:\n",
    "        images = images.reshape(-1, 28*28)\n",
    "        labels = labels\n",
    "        outputs = net(images)\n",
    "        \n",
    "        for idx, i in enumerate(outputs):\n",
    "            #print(torch.argmax(i), y[idx])\n",
    "            if torch.argmax(i) == labels[idx]:\n",
    "                n_correct += 1\n",
    "            n_samples += 1\n",
    "\n",
    "    acc = 100.0 * n_correct / n_samples\n",
    "    print(f'Accuracy of the network on the 10000 test images: {acc} %')"
   ]
  },
  {
   "cell_type": "markdown",
   "id": "215857a9-9637-4eab-9577-f6817a63e08e",
   "metadata": {},
   "source": [
    "## LR=0.003"
   ]
  },
  {
   "cell_type": "code",
   "execution_count": 85,
   "id": "9e23d97e-6362-4a7d-b555-d3df0a678756",
   "metadata": {},
   "outputs": [
    {
     "name": "stdout",
     "output_type": "stream",
     "text": [
      "Epoch [1/3], Step [3000/6000], Loss: 0.0000\n",
      "Epoch [1/3], Step [6000/6000], Loss: 0.0085\n",
      "Epoch [2/3], Step [3000/6000], Loss: 0.2123\n",
      "Epoch [2/3], Step [6000/6000], Loss: 0.0054\n",
      "Epoch [3/3], Step [3000/6000], Loss: 2.4918\n",
      "Epoch [3/3], Step [6000/6000], Loss: 0.2053\n"
     ]
    }
   ],
   "source": [
    "import torch.optim as optim\n",
    "\n",
    "loss_function = nn.CrossEntropyLoss()\n",
    "optimizer = optim.Adam(net.parameters(), lr=0.003) # Adam:Adaptive momentm ,  lr: learning rate \n",
    "class Binary_Net(nn.Module):\n",
    "    def __init__(self):\n",
    "        super().__init__()\n",
    "        self.fc1 = nn.Linear(28*28, 100)  #784 is 28*28 flattened image Input output is 64 can be any\n",
    "        self.fc2 = nn.Linear(100, 100) #Hidden layers\n",
    "        self.fc3 = nn.Linear(100 , 100)\n",
    "        self.fc4 = nn.Linear(100, 100)\n",
    "        self.fc5 = nn.Linear(100, 100)\n",
    "        self.fc6 = nn.Linear(100, 100)\n",
    "        self.fc7 = nn.Linear(100, 1) #one out put Yes or No\n",
    "        \n",
    "        #\n",
    "\n",
    "    def forward(self, x):\n",
    "        x = F.relu(self.fc1(x)) #  relu, activation function\n",
    "        x = F.relu(self.fc2(x))\n",
    "        x = F.relu(self.fc3(x))\n",
    "        x = F.relu(self.fc4(x))\n",
    "        x = F.relu(self.fc5(x))\n",
    "        x = F.relu(self.fc6(x))\n",
    "        output = self.fc7(x) \n",
    "        #Sigmoid at the end\n",
    "        y_pred = torch.sigmoid(output)\n",
    "        return ypred\n",
    "        #F.log_softmax(x, dim=1)\n",
    "# Train the model\n",
    "n_total_steps = len(train_set)\n",
    "num_epochs = 3\n",
    "\n",
    "for epoch in range(num_epochs): #3 full passes over the data\n",
    "    for i, (images, labels) in enumerate(train_set):  \n",
    "        # origin shape: [10, 1, 28, 28]\n",
    "        # resized: [10, 784]\n",
    "        images = images.reshape(-1, 28*28) #with -1 Pytorch will automatically identify the first dimentions\n",
    "        labels = labels\n",
    "        \n",
    "        \n",
    "        # Forward pass\n",
    "        outputs = net(images) # pass in the reshaped batch (recall they are 28x28 atm)\n",
    "        loss = loss_function(outputs, labels) # calculate and grab the loss value\n",
    "        \n",
    "        # Backward and optimize\n",
    "        optimizer.zero_grad()\n",
    "        loss.backward()  # apply this loss backwards thru the network's parameters\n",
    "        optimizer.step() # attempt to optimize weights to account for loss/gradients\n",
    "        \n",
    "        if (i+1) % 3000 == 0: #Every 3000 steps prinyt some info \n",
    "            print (f'Epoch [{epoch+1}/{num_epochs}], Step [{i+1}/{n_total_steps}], Loss: {loss.item():.4f}')"
   ]
  },
  {
   "cell_type": "code",
   "execution_count": 86,
   "id": "71238f94-9a75-4cdb-b773-04cefd792f38",
   "metadata": {},
   "outputs": [
    {
     "name": "stdout",
     "output_type": "stream",
     "text": [
      "Accuracy of the network on the 10000 test images: 96.02 %\n"
     ]
    }
   ],
   "source": [
    "# Test the model\n",
    "# In test phase, we don't need to compute gradients (for memory efficiency)\n",
    "# This is out of sample data and we just want to know how good is the network \n",
    "\n",
    "with torch.no_grad():\n",
    "    n_correct = 0\n",
    "    n_samples = 0\n",
    "    for images, labels in test_set:\n",
    "        images = images.reshape(-1, 28*28)\n",
    "        labels = labels\n",
    "        outputs = net(images)\n",
    "        \n",
    "        for idx, i in enumerate(outputs):\n",
    "            #print(torch.argmax(i), y[idx])\n",
    "            if torch.argmax(i) == labels[idx]:\n",
    "                n_correct += 1\n",
    "            n_samples += 1\n",
    "\n",
    "    acc = 100.0 * n_correct / n_samples\n",
    "    print(f'Accuracy of the network on the 10000 test images: {acc} %')"
   ]
  },
  {
   "cell_type": "markdown",
   "id": "69ac5d76-4a72-411a-85ac-661deeddab65",
   "metadata": {},
   "source": [
    "# Experiment 10 layers 64 neurons"
   ]
  },
  {
   "cell_type": "markdown",
   "id": "9f6bcfb9-fc21-44d9-a39f-5832bcd68cfb",
   "metadata": {},
   "source": [
    "## LR=0.001"
   ]
  },
  {
   "cell_type": "code",
   "execution_count": 87,
   "id": "e0140b43-a3fc-41f2-a155-a400af77ed3f",
   "metadata": {},
   "outputs": [
    {
     "name": "stdout",
     "output_type": "stream",
     "text": [
      "Epoch [1/3], Step [3000/6000], Loss: 0.0118\n",
      "Epoch [1/3], Step [6000/6000], Loss: 0.0044\n",
      "Epoch [2/3], Step [3000/6000], Loss: 0.0012\n",
      "Epoch [2/3], Step [6000/6000], Loss: 0.0001\n",
      "Epoch [3/3], Step [3000/6000], Loss: 0.0035\n",
      "Epoch [3/3], Step [6000/6000], Loss: 0.8051\n"
     ]
    }
   ],
   "source": [
    "import torch.optim as optim\n",
    "\n",
    "loss_function = nn.CrossEntropyLoss()\n",
    "optimizer = optim.Adam(net.parameters(), lr=0.001) # Adam:Adaptive momentm ,  lr: learning rate \n",
    "class Binary_Net(nn.Module):\n",
    "    def __init__(self):\n",
    "        super().__init__()\n",
    "        self.fc1 = nn.Linear(28*28, 64)  #784 is 28*28 flattened image Input output is 64 can be any\n",
    "        self.fc2 = nn.Linear(64, 64) #Hidden layers\n",
    "        self.fc3 = nn.Linear(64, 64)\n",
    "        self.fc4 = nn.Linear(64, 64)\n",
    "        self.fc5 = nn.Linear(64, 64)\n",
    "        self.fc6 = nn.Linear(64, 64)\n",
    "        self.fc7 = nn.Linear(64, 64)\n",
    "        self.fc8 = nn.Linear(64, 64)\n",
    "        self.fc9 = nn.Linear(64, 64)\n",
    "        self.fc10 = nn.Linear(64, 1) #one out put Yes or No\n",
    "        \n",
    "        #\n",
    "\n",
    "    def forward(self, x):\n",
    "        x = F.relu(self.fc1(x)) #  relu, activation function\n",
    "        x = F.relu(self.fc2(x))\n",
    "        x = F.relu(self.fc3(x))\n",
    "        x = F.relu(self.fc4(x))\n",
    "        x = F.relu(self.fc5(x))\n",
    "        x = F.relu(self.fc6(x))\n",
    "        x = F.relu(self.fc7(x))\n",
    "        x = F.relu(self.fc8(x))\n",
    "        x = F.relu(self.fc9(x))\n",
    "        output = self.fc10(x) \n",
    "        #Sigmoid at the end\n",
    "        y_pred = torch.sigmoid(output)\n",
    "        return ypred\n",
    "        #F.log_softmax(x, dim=1)\n",
    "# Train the model\n",
    "n_total_steps = len(train_set)\n",
    "num_epochs = 3\n",
    "\n",
    "for epoch in range(num_epochs): #3 full passes over the data\n",
    "    for i, (images, labels) in enumerate(train_set):  \n",
    "        # origin shape: [10, 1, 28, 28]\n",
    "        # resized: [10, 784]\n",
    "        images = images.reshape(-1, 28*28) #with -1 Pytorch will automatically identify the first dimentions\n",
    "        labels = labels\n",
    "        \n",
    "        \n",
    "        # Forward pass\n",
    "        outputs = net(images) # pass in the reshaped batch (recall they are 28x28 atm)\n",
    "        loss = loss_function(outputs, labels) # calculate and grab the loss value\n",
    "        \n",
    "        # Backward and optimize\n",
    "        optimizer.zero_grad()\n",
    "        loss.backward()  # apply this loss backwards thru the network's parameters\n",
    "        optimizer.step() # attempt to optimize weights to account for loss/gradients\n",
    "        \n",
    "        if (i+1) % 3000 == 0: #Every 3000 steps prinyt some info \n",
    "            print (f'Epoch [{epoch+1}/{num_epochs}], Step [{i+1}/{n_total_steps}], Loss: {loss.item():.4f}')"
   ]
  },
  {
   "cell_type": "code",
   "execution_count": 88,
   "id": "0908dc4b-cfa9-44e2-9c42-0e1d3d159b1a",
   "metadata": {},
   "outputs": [
    {
     "name": "stdout",
     "output_type": "stream",
     "text": [
      "Accuracy of the network on the 10000 test images: 97.67 %\n"
     ]
    }
   ],
   "source": [
    "# Test the model\n",
    "# In test phase, we don't need to compute gradients (for memory efficiency)\n",
    "# This is out of sample data and we just want to know how good is the network \n",
    "\n",
    "with torch.no_grad():\n",
    "    n_correct = 0\n",
    "    n_samples = 0\n",
    "    for images, labels in test_set:\n",
    "        images = images.reshape(-1, 28*28)\n",
    "        labels = labels\n",
    "        outputs = net(images)\n",
    "        \n",
    "        for idx, i in enumerate(outputs):\n",
    "            #print(torch.argmax(i), y[idx])\n",
    "            if torch.argmax(i) == labels[idx]:\n",
    "                n_correct += 1\n",
    "            n_samples += 1\n",
    "\n",
    "    acc = 100.0 * n_correct / n_samples\n",
    "    print(f'Accuracy of the network on the 10000 test images: {acc} %')"
   ]
  },
  {
   "cell_type": "markdown",
   "id": "53ab715a-153b-4b43-ac3b-909526e28cc2",
   "metadata": {},
   "source": [
    "## LR=0.0025"
   ]
  },
  {
   "cell_type": "code",
   "execution_count": 89,
   "id": "d3c768ee-2408-4508-bfa4-44cdfbaa3c6f",
   "metadata": {},
   "outputs": [
    {
     "name": "stdout",
     "output_type": "stream",
     "text": [
      "Epoch [1/3], Step [3000/6000], Loss: 0.0003\n",
      "Epoch [1/3], Step [6000/6000], Loss: 0.0144\n",
      "Epoch [2/3], Step [3000/6000], Loss: 0.0071\n",
      "Epoch [2/3], Step [6000/6000], Loss: 0.0001\n",
      "Epoch [3/3], Step [3000/6000], Loss: 0.0039\n",
      "Epoch [3/3], Step [6000/6000], Loss: 0.0121\n"
     ]
    }
   ],
   "source": [
    "import torch.optim as optim\n",
    "\n",
    "loss_function = nn.CrossEntropyLoss()\n",
    "optimizer = optim.Adam(net.parameters(), lr=0.0025) # Adam:Adaptive momentm ,  lr: learning rate \n",
    "class Binary_Net(nn.Module):\n",
    "    def __init__(self):\n",
    "        super().__init__()\n",
    "        self.fc1 = nn.Linear(28*28, 64)  #784 is 28*28 flattened image Input output is 64 can be any\n",
    "        self.fc2 = nn.Linear(64, 64) #Hidden layers\n",
    "        self.fc3 = nn.Linear(64, 64)\n",
    "        self.fc4 = nn.Linear(64, 64)\n",
    "        self.fc5 = nn.Linear(64, 64)\n",
    "        self.fc6 = nn.Linear(64, 64)\n",
    "        self.fc7 = nn.Linear(64, 64)\n",
    "        self.fc8 = nn.Linear(64, 64)\n",
    "        self.fc9 = nn.Linear(64, 64)\n",
    "        self.fc10 = nn.Linear(64, 1) #one out put Yes or No\n",
    "        \n",
    "        #\n",
    "\n",
    "    def forward(self, x):\n",
    "        x = F.relu(self.fc1(x)) #  relu, activation function\n",
    "        x = F.relu(self.fc2(x))\n",
    "        x = F.relu(self.fc3(x))\n",
    "        x = F.relu(self.fc4(x))\n",
    "        x = F.relu(self.fc5(x))\n",
    "        x = F.relu(self.fc6(x))\n",
    "        x = F.relu(self.fc7(x))\n",
    "        x = F.relu(self.fc8(x))\n",
    "        x = F.relu(self.fc9(x))\n",
    "        output = self.fc10(x) \n",
    "        #Sigmoid at the end\n",
    "        y_pred = torch.sigmoid(output)\n",
    "        return ypred\n",
    "        #F.log_softmax(x, dim=1)\n",
    "# Train the model\n",
    "n_total_steps = len(train_set)\n",
    "num_epochs = 3\n",
    "\n",
    "for epoch in range(num_epochs): #3 full passes over the data\n",
    "    for i, (images, labels) in enumerate(train_set):  \n",
    "        # origin shape: [10, 1, 28, 28]\n",
    "        # resized: [10, 784]\n",
    "        images = images.reshape(-1, 28*28) #with -1 Pytorch will automatically identify the first dimentions\n",
    "        labels = labels\n",
    "        \n",
    "        \n",
    "        # Forward pass\n",
    "        outputs = net(images) # pass in the reshaped batch (recall they are 28x28 atm)\n",
    "        loss = loss_function(outputs, labels) # calculate and grab the loss value\n",
    "        \n",
    "        # Backward and optimize\n",
    "        optimizer.zero_grad()\n",
    "        loss.backward()  # apply this loss backwards thru the network's parameters\n",
    "        optimizer.step() # attempt to optimize weights to account for loss/gradients\n",
    "        \n",
    "        if (i+1) % 3000 == 0: #Every 3000 steps prinyt some info \n",
    "            print (f'Epoch [{epoch+1}/{num_epochs}], Step [{i+1}/{n_total_steps}], Loss: {loss.item():.4f}')"
   ]
  },
  {
   "cell_type": "code",
   "execution_count": 90,
   "id": "0eafe3d3-3fe0-48b6-a203-2b26b58cbcf3",
   "metadata": {},
   "outputs": [
    {
     "name": "stdout",
     "output_type": "stream",
     "text": [
      "Accuracy of the network on the 10000 test images: 96.75 %\n"
     ]
    }
   ],
   "source": [
    "# Test the model\n",
    "# In test phase, we don't need to compute gradients (for memory efficiency)\n",
    "# This is out of sample data and we just want to know how good is the network \n",
    "\n",
    "with torch.no_grad():\n",
    "    n_correct = 0\n",
    "    n_samples = 0\n",
    "    for images, labels in test_set:\n",
    "        images = images.reshape(-1, 28*28)\n",
    "        labels = labels\n",
    "        outputs = net(images)\n",
    "        \n",
    "        for idx, i in enumerate(outputs):\n",
    "            #print(torch.argmax(i), y[idx])\n",
    "            if torch.argmax(i) == labels[idx]:\n",
    "                n_correct += 1\n",
    "            n_samples += 1\n",
    "\n",
    "    acc = 100.0 * n_correct / n_samples\n",
    "    print(f'Accuracy of the network on the 10000 test images: {acc} %')"
   ]
  },
  {
   "cell_type": "markdown",
   "id": "8b6fc9db-ed16-434a-b3d7-83d10d99d634",
   "metadata": {},
   "source": [
    "## LR=0.003"
   ]
  },
  {
   "cell_type": "code",
   "execution_count": 91,
   "id": "1f906191-2dfd-4c90-97d3-b9437e95ec04",
   "metadata": {},
   "outputs": [
    {
     "name": "stdout",
     "output_type": "stream",
     "text": [
      "Epoch [1/3], Step [3000/6000], Loss: 0.0447\n",
      "Epoch [1/3], Step [6000/6000], Loss: 0.1158\n",
      "Epoch [2/3], Step [3000/6000], Loss: 0.0339\n",
      "Epoch [2/3], Step [6000/6000], Loss: 0.0507\n",
      "Epoch [3/3], Step [3000/6000], Loss: 0.5965\n",
      "Epoch [3/3], Step [6000/6000], Loss: 0.0095\n"
     ]
    }
   ],
   "source": [
    "import torch.optim as optim\n",
    "\n",
    "loss_function = nn.CrossEntropyLoss()\n",
    "optimizer = optim.Adam(net.parameters(), lr=0.003) # Adam:Adaptive momentm ,  lr: learning rate \n",
    "class Binary_Net(nn.Module):\n",
    "    def __init__(self):\n",
    "        super().__init__()\n",
    "        self.fc1 = nn.Linear(28*28, 64)  #784 is 28*28 flattened image Input output is 64 can be any\n",
    "        self.fc2 = nn.Linear(64, 64) #Hidden layers\n",
    "        self.fc3 = nn.Linear(64, 64)\n",
    "        self.fc4 = nn.Linear(64, 64)\n",
    "        self.fc5 = nn.Linear(64, 64)\n",
    "        self.fc6 = nn.Linear(64, 64)\n",
    "        self.fc7 = nn.Linear(64, 64)\n",
    "        self.fc8 = nn.Linear(64, 64)\n",
    "        self.fc9 = nn.Linear(64, 64)\n",
    "        self.fc10 = nn.Linear(64, 1) #one out put Yes or No\n",
    "        \n",
    "        #\n",
    "\n",
    "    def forward(self, x):\n",
    "        x = F.relu(self.fc1(x)) #  relu, activation function\n",
    "        x = F.relu(self.fc2(x))\n",
    "        x = F.relu(self.fc3(x))\n",
    "        x = F.relu(self.fc4(x))\n",
    "        x = F.relu(self.fc5(x))\n",
    "        x = F.relu(self.fc6(x))\n",
    "        x = F.relu(self.fc7(x))\n",
    "        x = F.relu(self.fc8(x))\n",
    "        x = F.relu(self.fc9(x))\n",
    "        output = self.fc10(x) \n",
    "        #Sigmoid at the end\n",
    "        y_pred = torch.sigmoid(output)\n",
    "        return ypred\n",
    "        #F.log_softmax(x, dim=1)\n",
    "# Train the model\n",
    "n_total_steps = len(train_set)\n",
    "num_epochs = 3\n",
    "\n",
    "for epoch in range(num_epochs): #3 full passes over the data\n",
    "    for i, (images, labels) in enumerate(train_set):  \n",
    "        # origin shape: [10, 1, 28, 28]\n",
    "        # resized: [10, 784]\n",
    "        images = images.reshape(-1, 28*28) #with -1 Pytorch will automatically identify the first dimentions\n",
    "        labels = labels\n",
    "        \n",
    "        \n",
    "        # Forward pass\n",
    "        outputs = net(images) # pass in the reshaped batch (recall they are 28x28 atm)\n",
    "        loss = loss_function(outputs, labels) # calculate and grab the loss value\n",
    "        \n",
    "        # Backward and optimize\n",
    "        optimizer.zero_grad()\n",
    "        loss.backward()  # apply this loss backwards thru the network's parameters\n",
    "        optimizer.step() # attempt to optimize weights to account for loss/gradients\n",
    "        \n",
    "        if (i+1) % 3000 == 0: #Every 3000 steps prinyt some info \n",
    "            print (f'Epoch [{epoch+1}/{num_epochs}], Step [{i+1}/{n_total_steps}], Loss: {loss.item():.4f}')"
   ]
  },
  {
   "cell_type": "code",
   "execution_count": 92,
   "id": "ecdded3c-8385-46f2-92b2-8c69b9022bc3",
   "metadata": {},
   "outputs": [
    {
     "name": "stdout",
     "output_type": "stream",
     "text": [
      "Accuracy of the network on the 10000 test images: 97.0 %\n"
     ]
    }
   ],
   "source": [
    "# Test the model\n",
    "# In test phase, we don't need to compute gradients (for memory efficiency)\n",
    "# This is out of sample data and we just want to know how good is the network \n",
    "\n",
    "with torch.no_grad():\n",
    "    n_correct = 0\n",
    "    n_samples = 0\n",
    "    for images, labels in test_set:\n",
    "        images = images.reshape(-1, 28*28)\n",
    "        labels = labels\n",
    "        outputs = net(images)\n",
    "        \n",
    "        for idx, i in enumerate(outputs):\n",
    "            #print(torch.argmax(i), y[idx])\n",
    "            if torch.argmax(i) == labels[idx]:\n",
    "                n_correct += 1\n",
    "            n_samples += 1\n",
    "\n",
    "    acc = 100.0 * n_correct / n_samples\n",
    "    print(f'Accuracy of the network on the 10000 test images: {acc} %')"
   ]
  },
  {
   "cell_type": "markdown",
   "id": "59e7e731-594d-4a1b-b59d-f654bba900b2",
   "metadata": {},
   "source": [
    "# Experiment 10 layers, 100 neurons"
   ]
  },
  {
   "cell_type": "markdown",
   "id": "9b96576c-41ba-480b-aad1-5aa803a2fc89",
   "metadata": {},
   "source": [
    "## LR=0.001"
   ]
  },
  {
   "cell_type": "code",
   "execution_count": 93,
   "id": "57be1fc2-7181-4a91-b2ec-1386c1d40878",
   "metadata": {},
   "outputs": [
    {
     "name": "stdout",
     "output_type": "stream",
     "text": [
      "Epoch [1/3], Step [3000/6000], Loss: 0.0029\n",
      "Epoch [1/3], Step [6000/6000], Loss: 0.5448\n",
      "Epoch [2/3], Step [3000/6000], Loss: 0.0034\n",
      "Epoch [2/3], Step [6000/6000], Loss: 0.0033\n",
      "Epoch [3/3], Step [3000/6000], Loss: 0.0000\n",
      "Epoch [3/3], Step [6000/6000], Loss: 0.2489\n"
     ]
    }
   ],
   "source": [
    "import torch.optim as optim\n",
    "\n",
    "loss_function = nn.CrossEntropyLoss()\n",
    "optimizer = optim.Adam(net.parameters(), lr=0.001) # Adam:Adaptive momentm ,  lr: learning rate \n",
    "class Binary_Net(nn.Module):\n",
    "    def __init__(self):\n",
    "        super().__init__()\n",
    "        self.fc1 = nn.Linear(28*28, 100)  #784 is 28*28 flattened image Input output is 64 can be any\n",
    "        self.fc2 = nn.Linear(100, 100) #Hidden layers\n",
    "        self.fc3 = nn.Linear(100, 100)\n",
    "        self.fc4 = nn.Linear(100, 100)\n",
    "        self.fc5 = nn.Linear(100, 100)\n",
    "        self.fc6 = nn.Linear(100, 100)\n",
    "        self.fc7 = nn.Linear(100, 100)\n",
    "        self.fc8 = nn.Linear(100, 100)\n",
    "        self.fc9 = nn.Linear(100, 100)\n",
    "        self.fc10 = nn.Linear(100, 1) #one out put Yes or No\n",
    "        \n",
    "        #\n",
    "\n",
    "    def forward(self, x):\n",
    "        x = F.relu(self.fc1(x)) #  relu, activation function\n",
    "        x = F.relu(self.fc2(x))\n",
    "        x = F.relu(self.fc3(x))\n",
    "        x = F.relu(self.fc4(x))\n",
    "        x = F.relu(self.fc5(x))\n",
    "        x = F.relu(self.fc6(x))\n",
    "        x = F.relu(self.fc7(x))\n",
    "        x = F.relu(self.fc8(x))\n",
    "        x = F.relu(self.fc9(x))\n",
    "        output = self.fc10(x) \n",
    "        #Sigmoid at the end\n",
    "        y_pred = torch.sigmoid(output)\n",
    "        return ypred\n",
    "        #F.log_softmax(x, dim=1)\n",
    "# Train the model\n",
    "n_total_steps = len(train_set)\n",
    "num_epochs = 3\n",
    "\n",
    "for epoch in range(num_epochs): #3 full passes over the data\n",
    "    for i, (images, labels) in enumerate(train_set):  \n",
    "        # origin shape: [10, 1, 28, 28]\n",
    "        # resized: [10, 784]\n",
    "        images = images.reshape(-1, 28*28) #with -1 Pytorch will automatically identify the first dimentions\n",
    "        labels = labels\n",
    "        \n",
    "        \n",
    "        # Forward pass\n",
    "        outputs = net(images) # pass in the reshaped batch (recall they are 28x28 atm)\n",
    "        loss = loss_function(outputs, labels) # calculate and grab the loss value\n",
    "        \n",
    "        # Backward and optimize\n",
    "        optimizer.zero_grad()\n",
    "        loss.backward()  # apply this loss backwards thru the network's parameters\n",
    "        optimizer.step() # attempt to optimize weights to account for loss/gradients\n",
    "        \n",
    "        if (i+1) % 3000 == 0: #Every 3000 steps prinyt some info \n",
    "            print (f'Epoch [{epoch+1}/{num_epochs}], Step [{i+1}/{n_total_steps}], Loss: {loss.item():.4f}')"
   ]
  },
  {
   "cell_type": "code",
   "execution_count": 94,
   "id": "63073801-23e6-454e-95cf-c09ec57b1bd8",
   "metadata": {},
   "outputs": [
    {
     "name": "stdout",
     "output_type": "stream",
     "text": [
      "Accuracy of the network on the 10000 test images: 97.32 %\n"
     ]
    }
   ],
   "source": [
    "# Test the model\n",
    "# In test phase, we don't need to compute gradients (for memory efficiency)\n",
    "# This is out of sample data and we just want to know how good is the network \n",
    "\n",
    "with torch.no_grad():\n",
    "    n_correct = 0\n",
    "    n_samples = 0\n",
    "    for images, labels in test_set:\n",
    "        images = images.reshape(-1, 28*28)\n",
    "        labels = labels\n",
    "        outputs = net(images)\n",
    "        \n",
    "        for idx, i in enumerate(outputs):\n",
    "            #print(torch.argmax(i), y[idx])\n",
    "            if torch.argmax(i) == labels[idx]:\n",
    "                n_correct += 1\n",
    "            n_samples += 1\n",
    "\n",
    "    acc = 100.0 * n_correct / n_samples\n",
    "    print(f'Accuracy of the network on the 10000 test images: {acc} %')"
   ]
  },
  {
   "cell_type": "markdown",
   "id": "5865a4fd-bca0-4af7-a785-f4ad9deed8eb",
   "metadata": {},
   "source": [
    "## LR=0.003"
   ]
  },
  {
   "cell_type": "code",
   "execution_count": 98,
   "id": "430fbbf3-5fbb-49f9-98a4-a7746974466e",
   "metadata": {},
   "outputs": [
    {
     "name": "stdout",
     "output_type": "stream",
     "text": [
      "Epoch [1/3], Step [3000/6000], Loss: 0.2928\n",
      "Epoch [1/3], Step [6000/6000], Loss: 0.1039\n",
      "Epoch [2/3], Step [3000/6000], Loss: 0.0490\n",
      "Epoch [2/3], Step [6000/6000], Loss: 0.0349\n",
      "Epoch [3/3], Step [3000/6000], Loss: 0.0100\n",
      "Epoch [3/3], Step [6000/6000], Loss: 0.0135\n",
      "Accuracy of the network on the 10000 test images: 96.18 %\n"
     ]
    }
   ],
   "source": [
    "import torch.optim as optim\n",
    "\n",
    "loss_function = nn.CrossEntropyLoss()\n",
    "optimizer = optim.Adam(net.parameters(), lr=0.003) # Adam:Adaptive momentm ,  lr: learning rate \n",
    "class Binary_Net(nn.Module):\n",
    "    def __init__(self):\n",
    "        super().__init__()\n",
    "        self.fc1 = nn.Linear(28*28, 100)  #784 is 28*28 flattened image Input output is 64 can be any\n",
    "        self.fc2 = nn.Linear(100, 100) #Hidden layers\n",
    "        self.fc3 = nn.Linear(100, 100)\n",
    "        self.fc4 = nn.Linear(100, 100)\n",
    "        self.fc5 = nn.Linear(100, 100)\n",
    "        self.fc6 = nn.Linear(100, 100)\n",
    "        self.fc7 = nn.Linear(100, 100)\n",
    "        self.fc8 = nn.Linear(100, 100)\n",
    "        self.fc9 = nn.Linear(100, 100)\n",
    "        self.fc10 = nn.Linear(100, 1) #one out put Yes or No\n",
    "        \n",
    "        #\n",
    "\n",
    "    def forward(self, x):\n",
    "        x = F.relu(self.fc1(x)) #  relu, activation function\n",
    "        x = F.relu(self.fc2(x))\n",
    "        x = F.relu(self.fc3(x))\n",
    "        x = F.relu(self.fc4(x))\n",
    "        x = F.relu(self.fc5(x))\n",
    "        x = F.relu(self.fc6(x))\n",
    "        x = F.relu(self.fc7(x))\n",
    "        x = F.relu(self.fc8(x))\n",
    "        x = F.relu(self.fc9(x))\n",
    "        output = self.fc10(x) \n",
    "        #Sigmoid at the end\n",
    "        y_pred = torch.sigmoid(output)\n",
    "        return ypred\n",
    "        #F.log_softmax(x, dim=1)\n",
    "# Train the model\n",
    "n_total_steps = len(train_set)\n",
    "num_epochs = 3\n",
    "\n",
    "for epoch in range(num_epochs): #3 full passes over the data\n",
    "    for i, (images, labels) in enumerate(train_set):  \n",
    "        # origin shape: [10, 1, 28, 28]\n",
    "        # resized: [10, 784]\n",
    "        images = images.reshape(-1, 28*28) #with -1 Pytorch will automatically identify the first dimentions\n",
    "        labels = labels\n",
    "        \n",
    "        \n",
    "        # Forward pass\n",
    "        outputs = net(images) # pass in the reshaped batch (recall they are 28x28 atm)\n",
    "        loss = loss_function(outputs, labels) # calculate and grab the loss value\n",
    "        \n",
    "        # Backward and optimize\n",
    "        optimizer.zero_grad()\n",
    "        loss.backward()  # apply this loss backwards thru the network's parameters\n",
    "        optimizer.step() # attempt to optimize weights to account for loss/gradients\n",
    "        \n",
    "        if (i+1) % 3000 == 0: #Every 3000 steps prinyt some info \n",
    "            print (f'Epoch [{epoch+1}/{num_epochs}], Step [{i+1}/{n_total_steps}], Loss: {loss.item():.4f}')\n",
    "            # Test the model\n",
    "# In test phase, we don't need to compute gradients (for memory efficiency)\n",
    "# This is out of sample data and we just want to know how good is the network \n",
    "\n",
    "with torch.no_grad():\n",
    "    n_correct = 0\n",
    "    n_samples = 0\n",
    "    for images, labels in test_set:\n",
    "        images = images.reshape(-1, 28*28)\n",
    "        labels = labels\n",
    "        outputs = net(images)\n",
    "        \n",
    "        for idx, i in enumerate(outputs):\n",
    "            #print(torch.argmax(i), y[idx])\n",
    "            if torch.argmax(i) == labels[idx]:\n",
    "                n_correct += 1\n",
    "            n_samples += 1\n",
    "\n",
    "    acc = 100.0 * n_correct / n_samples\n",
    "    print(f'Accuracy of the network on the 10000 test images: {acc} %')"
   ]
  },
  {
   "cell_type": "markdown",
   "id": "f5f9c010-764b-4efb-a6c4-6f224b4eb367",
   "metadata": {},
   "source": [
    "## LR=0.005"
   ]
  },
  {
   "cell_type": "code",
   "execution_count": 108,
   "id": "d12c26f7-308c-4d5e-9c3a-0c913e1a986a",
   "metadata": {},
   "outputs": [
    {
     "name": "stdout",
     "output_type": "stream",
     "text": [
      "Epoch [1/3], Step [3000/6000], Loss: 0.3708\n",
      "Epoch [1/3], Step [6000/6000], Loss: 0.9810\n",
      "Epoch [2/3], Step [3000/6000], Loss: 0.4107\n",
      "Epoch [2/3], Step [6000/6000], Loss: 0.6885\n",
      "Epoch [3/3], Step [3000/6000], Loss: 0.5483\n",
      "Epoch [3/3], Step [6000/6000], Loss: 0.6608\n",
      "Accuracy of the network on the 10000 test images: 57.9 %\n"
     ]
    }
   ],
   "source": [
    "import torch.optim as optim\n",
    "\n",
    "loss_function = nn.CrossEntropyLoss()\n",
    "optimizer = optim.Adam(net.parameters(), lr=0.003) # Adam:Adaptive momentm ,  lr: learning rate \n",
    "class Binary_Net(nn.Module):\n",
    "    def __init__(self):\n",
    "        super().__init__()\n",
    "        self.fc1 = nn.Linear(28*28, 100)  #784 is 28*28 flattened image Input output is 64 can be any\n",
    "        self.fc2 = nn.Linear(100, 100) #Hidden layers\n",
    "        self.fc3 = nn.Linear(100, 100)\n",
    "        self.fc4 = nn.Linear(100, 100)\n",
    "        self.fc5 = nn.Linear(100, 100)\n",
    "        self.fc6 = nn.Linear(100, 100)\n",
    "        self.fc7 = nn.Linear(100, 100)\n",
    "        self.fc8 = nn.Linear(100, 100)\n",
    "        self.fc9 = nn.Linear(100, 100)\n",
    "        self.fc10 = nn.Linear(100, 1) #one out put Yes or No\n",
    "        \n",
    "        #\n",
    "\n",
    "    def forward(self, x):\n",
    "        x = F.relu(self.fc1(x)) #  relu, activation function\n",
    "        x = F.relu(self.fc2(x))\n",
    "        x = F.relu(self.fc3(x))\n",
    "        x = F.relu(self.fc4(x))\n",
    "        x = F.relu(self.fc5(x))\n",
    "        x = F.relu(self.fc6(x))\n",
    "        x = F.relu(self.fc7(x))\n",
    "        x = F.relu(self.fc8(x))\n",
    "        x = F.relu(self.fc9(x))\n",
    "        output = self.fc10(x) \n",
    "        #Sigmoid at the end\n",
    "        y_pred = torch.sigmoid(output)\n",
    "        return ypred\n",
    "        #F.log_softmax(x, dim=1)\n",
    "# Train the model\n",
    "n_total_steps = len(train_set)\n",
    "num_epochs = 3\n",
    "\n",
    "for epoch in range(num_epochs): #3 full passes over the data\n",
    "    for i, (images, labels) in enumerate(train_set):  \n",
    "        # origin shape: [10, 1, 28, 28]\n",
    "        # resized: [10, 784]\n",
    "        images = images.reshape(-1, 28*28) #with -1 Pytorch will automatically identify the first dimentions\n",
    "        labels = labels\n",
    "        \n",
    "        \n",
    "        # Forward pass\n",
    "        outputs = net(images) # pass in the reshaped batch (recall they are 28x28 atm)\n",
    "        loss = loss_function(outputs, labels) # calculate and grab the loss value\n",
    "        \n",
    "        # Backward and optimize\n",
    "        optimizer.zero_grad()\n",
    "        loss.backward()  # apply this loss backwards thru the network's parameters\n",
    "        optimizer.step() # attempt to optimize weights to account for loss/gradients\n",
    "        \n",
    "        if (i+1) % 3000 == 0: #Every 3000 steps prinyt some info \n",
    "            print (f'Epoch [{epoch+1}/{num_epochs}], Step [{i+1}/{n_total_steps}], Loss: {loss.item():.4f}')\n",
    "            # Test the model\n",
    "# In test phase, we don't need to compute gradients (for memory efficiency)\n",
    "# This is out of sample data and we just want to know how good is the network \n",
    "\n",
    "with torch.no_grad():\n",
    "    n_correct = 0\n",
    "    n_samples = 0\n",
    "    for images, labels in test_set:\n",
    "        images = images.reshape(-1, 28*28)\n",
    "        labels = labels\n",
    "        outputs = net(images)\n",
    "        \n",
    "        for idx, i in enumerate(outputs):\n",
    "            #print(torch.argmax(i), y[idx])\n",
    "            if torch.argmax(i) == labels[idx]:\n",
    "                n_correct += 1\n",
    "            n_samples += 1\n",
    "\n",
    "    acc = 100.0 * n_correct / n_samples\n",
    "    print(f'Accuracy of the network on the 10000 test images: {acc} %')"
   ]
  },
  {
   "cell_type": "code",
   "execution_count": null,
   "id": "f7abf057-e892-48c2-ad34-180fc600aa85",
   "metadata": {},
   "outputs": [],
   "source": []
  }
 ],
 "metadata": {
  "kernelspec": {
   "display_name": "Python 3 (ipykernel)",
   "language": "python",
   "name": "python3"
  },
  "language_info": {
   "codemirror_mode": {
    "name": "ipython",
    "version": 3
   },
   "file_extension": ".py",
   "mimetype": "text/x-python",
   "name": "python",
   "nbconvert_exporter": "python",
   "pygments_lexer": "ipython3",
   "version": "3.12.0"
  }
 },
 "nbformat": 4,
 "nbformat_minor": 5
}
