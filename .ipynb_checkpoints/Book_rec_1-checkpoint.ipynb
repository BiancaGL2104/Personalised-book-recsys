{
 "cells": [
  {
   "cell_type": "markdown",
   "metadata": {
    "id": "8Bv6iiHSY__K"
   },
   "source": [
    "**Imports**"
   ]
  },
  {
   "cell_type": "code",
   "execution_count": 1,
   "metadata": {
    "executionInfo": {
     "elapsed": 5,
     "status": "ok",
     "timestamp": 1713431960558,
     "user": {
      "displayName": "Bianca Leoveanu",
      "userId": "09937094262569112673"
     },
     "user_tz": -120
    },
    "id": "g_CkRZCoZBFA"
   },
   "outputs": [],
   "source": [
    "import pandas as pd\n",
    "import numpy as np\n",
    "import matplotlib.pyplot as plt\n",
    "%matplotlib inline"
   ]
  },
  {
   "cell_type": "markdown",
   "metadata": {
    "id": "ksML41frf_Ur"
   },
   "source": [
    "**Importing data**"
   ]
  },
  {
   "cell_type": "code",
   "execution_count": 2,
   "metadata": {
    "colab": {
     "base_uri": "https://localhost:8080/"
    },
    "executionInfo": {
     "elapsed": 716,
     "status": "ok",
     "timestamp": 1713437150469,
     "user": {
      "displayName": "Bianca Leoveanu",
      "userId": "09937094262569112673"
     },
     "user_tz": -120
    },
    "id": "0Y3uEpdha_xE",
    "outputId": "e59a749b-0d17-4af4-99b3-11fad55add34"
   },
   "outputs": [
    {
     "name": "stdout",
     "output_type": "stream",
     "text": [
      "   Unnamed: 0  index                            authors  average_rating  \\\n",
      "0           0      0                ['Suzanne Collins']            4.34   \n",
      "1           1      1  ['J.K. Rowling', 'Mary GrandPré']            4.44   \n",
      "2           2      2                ['Stephenie Meyer']            3.57   \n",
      "3           3      3                     ['Harper Lee']            4.25   \n",
      "4           4      4            ['F. Scott Fitzgerald']            3.89   \n",
      "\n",
      "   best_book_id  book_id  books_count  \\\n",
      "0       2767052        1          272   \n",
      "1             3        2          491   \n",
      "2         41865        3          226   \n",
      "3          2657        4          487   \n",
      "4          4671        5         1356   \n",
      "\n",
      "                                         description  \\\n",
      "0  WINNING MEANS FAME AND FORTUNE.LOSING MEANS CE...   \n",
      "1  Harry Potter's life is miserable. His parents ...   \n",
      "2  About three things I was absolutely positive.\\...   \n",
      "3  The unforgettable novel of a childhood in a sl...   \n",
      "4  Alternate Cover Edition ISBN: 0743273567 (ISBN...   \n",
      "\n",
      "                                              genres  goodreads_book_id  ...  \\\n",
      "0  ['young-adult', 'fiction', 'fantasy', 'science...            2767052  ...   \n",
      "1  ['fantasy', 'fiction', 'young-adult', 'classics']                  3  ...   \n",
      "2  ['young-adult', 'fantasy', 'romance', 'fiction...              41865  ...   \n",
      "3  ['classics', 'fiction', 'historical-fiction', ...               2657  ...   \n",
      "4  ['classics', 'fiction', 'historical-fiction', ...               4671  ...   \n",
      "\n",
      "  ratings_3 ratings_4  ratings_5 ratings_count  \\\n",
      "0    560092   1481305    2706317       4780653   \n",
      "1    455024   1156318    3011543       4602479   \n",
      "2    793319    875073    1355439       3866839   \n",
      "3    446835   1001952    1714267       3198671   \n",
      "4    606158    936012     947718       2683664   \n",
      "\n",
      "                                     small_image_url  \\\n",
      "0  https://images.gr-assets.com/books/1447303603s...   \n",
      "1  https://images.gr-assets.com/books/1474154022s...   \n",
      "2  https://images.gr-assets.com/books/1361039443s...   \n",
      "3  https://images.gr-assets.com/books/1361975680s...   \n",
      "4  https://images.gr-assets.com/books/1490528560s...   \n",
      "\n",
      "                                               title  work_id  \\\n",
      "0            The Hunger Games (The Hunger Games, #1)  2792775   \n",
      "1  Harry Potter and the Sorcerer's Stone (Harry P...  4640799   \n",
      "2                            Twilight (Twilight, #1)  3212258   \n",
      "3                              To Kill a Mockingbird  3275794   \n",
      "4                                   The Great Gatsby   245494   \n",
      "\n",
      "  work_ratings_count  work_text_reviews_count  \\\n",
      "0            4942365                   155254   \n",
      "1            4800065                    75867   \n",
      "2            3916824                    95009   \n",
      "3            3340896                    72586   \n",
      "4            2773745                    51992   \n",
      "\n",
      "                           authors_2  \n",
      "0                ['Suzanne Collins']  \n",
      "1  ['J.K. Rowling', 'Mary GrandPré']  \n",
      "2                ['Stephenie Meyer']  \n",
      "3                     ['Harper Lee']  \n",
      "4            ['F. Scott Fitzgerald']  \n",
      "\n",
      "[5 rows x 30 columns]\n"
     ]
    }
   ],
   "source": [
    "books_df = pd.read_csv(\n",
    "    'books_enriched.csv',\n",
    ")\n",
    "print(books_df.head())\n"
   ]
  },
  {
   "cell_type": "code",
   "execution_count": 3,
   "metadata": {
    "colab": {
     "base_uri": "https://localhost:8080/"
    },
    "executionInfo": {
     "elapsed": 2550,
     "status": "ok",
     "timestamp": 1713437159903,
     "user": {
      "displayName": "Bianca Leoveanu",
      "userId": "09937094262569112673"
     },
     "user_tz": -120
    },
    "id": "D9mm4u46dO1E",
    "outputId": "9c635c51-5ee5-4df0-f6a5-1f7c91882374"
   },
   "outputs": [
    {
     "name": "stdout",
     "output_type": "stream",
     "text": [
      "   user_id  book_id  rating\n",
      "0        1      258       5\n",
      "1        2     4081       4\n",
      "2        2      260       5\n",
      "3        2     9296       5\n",
      "4        2     2318       3\n"
     ]
    }
   ],
   "source": [
    "books_rat = pd.read_csv(\n",
    "    'ratings.csv',\n",
    ")\n",
    "print(books_rat.head())"
   ]
  },
  {
   "cell_type": "code",
   "execution_count": 4,
   "metadata": {
    "colab": {
     "base_uri": "https://localhost:8080/"
    },
    "executionInfo": {
     "elapsed": 356,
     "status": "ok",
     "timestamp": 1713437168332,
     "user": {
      "displayName": "Bianca Leoveanu",
      "userId": "09937094262569112673"
     },
     "user_tz": -120
    },
    "id": "RyAQpPgHfI96",
    "outputId": "10e776a3-9180-47ed-f60e-c91c35a30bc2"
   },
   "outputs": [
    {
     "name": "stdout",
     "output_type": "stream",
     "text": [
      "   user_id  book_id\n",
      "0        9        8\n",
      "1       15      398\n",
      "2       15      275\n",
      "3       37     7173\n",
      "4       34      380\n"
     ]
    }
   ],
   "source": [
    "to_read = pd.read_csv(\n",
    "    'to_read.csv',\n",
    ")\n",
    "print(to_read.head())"
   ]
  },
  {
   "cell_type": "code",
   "execution_count": 5,
   "metadata": {
    "colab": {
     "base_uri": "https://localhost:8080/"
    },
    "executionInfo": {
     "elapsed": 426,
     "status": "ok",
     "timestamp": 1713437177411,
     "user": {
      "displayName": "Bianca Leoveanu",
      "userId": "09937094262569112673"
     },
     "user_tz": -120
    },
    "id": "RHqUDMK5fa2H",
    "outputId": "f069c352-7a76-4e3a-aa59-e49614b4fe82"
   },
   "outputs": [
    {
     "name": "stdout",
     "output_type": "stream",
     "text": [
      "   tag_id tag_name\n",
      "0       0        -\n",
      "1       1     --1-\n",
      "2       2    --10-\n",
      "3       3    --12-\n",
      "4       4   --122-\n"
     ]
    }
   ],
   "source": [
    "tags = pd.read_csv(\n",
    "    'tags.csv',\n",
    ")\n",
    "print(tags.head())"
   ]
  },
  {
   "cell_type": "code",
   "execution_count": 6,
   "metadata": {
    "colab": {
     "base_uri": "https://localhost:8080/"
    },
    "executionInfo": {
     "elapsed": 733,
     "status": "ok",
     "timestamp": 1713437186301,
     "user": {
      "displayName": "Bianca Leoveanu",
      "userId": "09937094262569112673"
     },
     "user_tz": -120
    },
    "id": "jFbdi6YCfggs",
    "outputId": "99594f83-c3c2-47a8-facd-3a912854bf43"
   },
   "outputs": [
    {
     "name": "stdout",
     "output_type": "stream",
     "text": [
      "   goodreads_book_id  tag_id   count\n",
      "0                  1   30574  167697\n",
      "1                  1   11305   37174\n",
      "2                  1   11557   34173\n",
      "3                  1    8717   12986\n",
      "4                  1   33114   12716\n"
     ]
    }
   ],
   "source": [
    "book_tags = pd.read_csv(\n",
    "    'book_tags.csv',\n",
    ")\n",
    "print(book_tags.head())"
   ]
  },
  {
   "cell_type": "markdown",
   "metadata": {
    "id": "OGMr-fydgPv_"
   },
   "source": [
    "**Ratings**"
   ]
  },
  {
   "cell_type": "code",
   "execution_count": 7,
   "metadata": {
    "colab": {
     "base_uri": "https://localhost:8080/"
    },
    "executionInfo": {
     "elapsed": 4,
     "status": "ok",
     "timestamp": 1713432007521,
     "user": {
      "displayName": "Bianca Leoveanu",
      "userId": "09937094262569112673"
     },
     "user_tz": -120
    },
    "id": "oG-A0zqxf4K3",
    "outputId": "798aab2f-f1dc-45e7-bd05-671bcd3935dd"
   },
   "outputs": [
    {
     "data": {
      "text/plain": [
       "5976479"
      ]
     },
     "execution_count": 7,
     "metadata": {},
     "output_type": "execute_result"
    }
   ],
   "source": [
    "len(books_rat)"
   ]
  },
  {
   "cell_type": "code",
   "execution_count": 8,
   "metadata": {
    "colab": {
     "base_uri": "https://localhost:8080/",
     "height": 462
    },
    "executionInfo": {
     "elapsed": 1682,
     "status": "ok",
     "timestamp": 1713432025557,
     "user": {
      "displayName": "Bianca Leoveanu",
      "userId": "09937094262569112673"
     },
     "user_tz": -120
    },
    "id": "V6dQ_T48gBom",
    "outputId": "90fb9f22-6ac1-4ced-f1e1-c8b737d41a38"
   },
   "outputs": [
    {
     "data": {
      "text/plain": [
       "<Axes: >"
      ]
     },
     "execution_count": 8,
     "metadata": {},
     "output_type": "execute_result"
    },
    {
     "data": {
      "image/png": "[encoded data removed]",
      "text/plain": [
       "<Figure size 640x480 with 1 Axes>"
      ]
     },
     "metadata": {},
     "output_type": "display_data"
    }
   ],
   "source": [
    "books_rat.rating.hist( bins = 5 )"
   ]
  },
  {
   "cell_type": "markdown",
   "metadata": {
    "id": "gw5p1w-pilz-"
   },
   "source": [
    "**To Read**"
   ]
  },
  {
   "cell_type": "code",
   "execution_count": 9,
   "metadata": {
    "colab": {
     "base_uri": "https://localhost:8080/"
    },
    "executionInfo": {
     "elapsed": 5,
     "status": "ok",
     "timestamp": 1713432613311,
     "user": {
      "displayName": "Bianca Leoveanu",
      "userId": "09937094262569112673"
     },
     "user_tz": -120
    },
    "id": "FYFzs4HsgdBf",
    "outputId": "db6dc56e-8342-422b-ed65-02926df3118f"
   },
   "outputs": [
    {
     "data": {
      "text/plain": [
       "912705"
      ]
     },
     "execution_count": 9,
     "metadata": {},
     "output_type": "execute_result"
    }
   ],
   "source": [
    "len(to_read)"
   ]
  },
  {
   "cell_type": "code",
   "execution_count": 10,
   "metadata": {
    "colab": {
     "base_uri": "https://localhost:8080/"
    },
    "executionInfo": {
     "elapsed": 8,
     "status": "ok",
     "timestamp": 1713432633609,
     "user": {
      "displayName": "Bianca Leoveanu",
      "userId": "09937094262569112673"
     },
     "user_tz": -120
    },
    "id": "c89UMYhBis0Z",
    "outputId": "640c5534-38cb-45f0-9f73-fb27c9550f29"
   },
   "outputs": [
    {
     "data": {
      "text/plain": [
       "9986"
      ]
     },
     "execution_count": 10,
     "metadata": {},
     "output_type": "execute_result"
    }
   ],
   "source": [
    "len(to_read.book_id.unique())"
   ]
  },
  {
   "cell_type": "markdown",
   "metadata": {
    "id": "iEnXcUaKjXJl"
   },
   "source": [
    "**Books**"
   ]
  },
  {
   "cell_type": "code",
   "execution_count": 11,
   "metadata": {
    "colab": {
     "base_uri": "https://localhost:8080/",
     "height": 559
    },
    "executionInfo": {
     "elapsed": 9,
     "status": "ok",
     "timestamp": 1713432753857,
     "user": {
      "displayName": "Bianca Leoveanu",
      "userId": "09937094262569112673"
     },
     "user_tz": -120
    },
    "id": "vNwwCHFPixvZ",
    "outputId": "53ef2d00-a2d1-4924-c927-778a3bbab693"
   },
   "outputs": [
    {
     "data": {
      "text/html": [
       "<div>\n",
       "<style scoped>\n",
       "    .dataframe tbody tr th:only-of-type {\n",
       "        vertical-align: middle;\n",
       "    }\n",
       "\n",
       "    .dataframe tbody tr th {\n",
       "        vertical-align: top;\n",
       "    }\n",
       "\n",
       "    .dataframe thead th {\n",
       "        text-align: right;\n",
       "    }\n",
       "</style>\n",
       "<table border=\"1\" class=\"dataframe\">\n",
       "  <thead>\n",
       "    <tr style=\"text-align: right;\">\n",
       "      <th></th>\n",
       "      <th>Unnamed: 0</th>\n",
       "      <th>index</th>\n",
       "      <th>authors</th>\n",
       "      <th>average_rating</th>\n",
       "      <th>best_book_id</th>\n",
       "      <th>book_id</th>\n",
       "      <th>books_count</th>\n",
       "      <th>description</th>\n",
       "      <th>genres</th>\n",
       "      <th>goodreads_book_id</th>\n",
       "      <th>...</th>\n",
       "      <th>ratings_3</th>\n",
       "      <th>ratings_4</th>\n",
       "      <th>ratings_5</th>\n",
       "      <th>ratings_count</th>\n",
       "      <th>small_image_url</th>\n",
       "      <th>title</th>\n",
       "      <th>work_id</th>\n",
       "      <th>work_ratings_count</th>\n",
       "      <th>work_text_reviews_count</th>\n",
       "      <th>authors_2</th>\n",
       "    </tr>\n",
       "  </thead>\n",
       "  <tbody>\n",
       "    <tr>\n",
       "      <th>0</th>\n",
       "      <td>0</td>\n",
       "      <td>0</td>\n",
       "      <td>['Suzanne Collins']</td>\n",
       "      <td>4.34</td>\n",
       "      <td>2767052</td>\n",
       "      <td>1</td>\n",
       "      <td>272</td>\n",
       "      <td>WINNING MEANS FAME AND FORTUNE.LOSING MEANS CE...</td>\n",
       "      <td>['young-adult', 'fiction', 'fantasy', 'science...</td>\n",
       "      <td>2767052</td>\n",
       "      <td>...</td>\n",
       "      <td>560092</td>\n",
       "      <td>1481305</td>\n",
       "      <td>2706317</td>\n",
       "      <td>4780653</td>\n",
       "      <td>https://images.gr-assets.com/books/1447303603s...</td>\n",
       "      <td>The Hunger Games (The Hunger Games, #1)</td>\n",
       "      <td>2792775</td>\n",
       "      <td>4942365</td>\n",
       "      <td>155254</td>\n",
       "      <td>['Suzanne Collins']</td>\n",
       "    </tr>\n",
       "    <tr>\n",
       "      <th>1</th>\n",
       "      <td>1</td>\n",
       "      <td>1</td>\n",
       "      <td>['J.K. Rowling', 'Mary GrandPré']</td>\n",
       "      <td>4.44</td>\n",
       "      <td>3</td>\n",
       "      <td>2</td>\n",
       "      <td>491</td>\n",
       "      <td>Harry Potter's life is miserable. His parents ...</td>\n",
       "      <td>['fantasy', 'fiction', 'young-adult', 'classics']</td>\n",
       "      <td>3</td>\n",
       "      <td>...</td>\n",
       "      <td>455024</td>\n",
       "      <td>1156318</td>\n",
       "      <td>3011543</td>\n",
       "      <td>4602479</td>\n",
       "      <td>https://images.gr-assets.com/books/1474154022s...</td>\n",
       "      <td>Harry Potter and the Sorcerer's Stone (Harry P...</td>\n",
       "      <td>4640799</td>\n",
       "      <td>4800065</td>\n",
       "      <td>75867</td>\n",
       "      <td>['J.K. Rowling', 'Mary GrandPré']</td>\n",
       "    </tr>\n",
       "    <tr>\n",
       "      <th>2</th>\n",
       "      <td>2</td>\n",
       "      <td>2</td>\n",
       "      <td>['Stephenie Meyer']</td>\n",
       "      <td>3.57</td>\n",
       "      <td>41865</td>\n",
       "      <td>3</td>\n",
       "      <td>226</td>\n",
       "      <td>About three things I was absolutely positive.\\...</td>\n",
       "      <td>['young-adult', 'fantasy', 'romance', 'fiction...</td>\n",
       "      <td>41865</td>\n",
       "      <td>...</td>\n",
       "      <td>793319</td>\n",
       "      <td>875073</td>\n",
       "      <td>1355439</td>\n",
       "      <td>3866839</td>\n",
       "      <td>https://images.gr-assets.com/books/1361039443s...</td>\n",
       "      <td>Twilight (Twilight, #1)</td>\n",
       "      <td>3212258</td>\n",
       "      <td>3916824</td>\n",
       "      <td>95009</td>\n",
       "      <td>['Stephenie Meyer']</td>\n",
       "    </tr>\n",
       "    <tr>\n",
       "      <th>3</th>\n",
       "      <td>3</td>\n",
       "      <td>3</td>\n",
       "      <td>['Harper Lee']</td>\n",
       "      <td>4.25</td>\n",
       "      <td>2657</td>\n",
       "      <td>4</td>\n",
       "      <td>487</td>\n",
       "      <td>The unforgettable novel of a childhood in a sl...</td>\n",
       "      <td>['classics', 'fiction', 'historical-fiction', ...</td>\n",
       "      <td>2657</td>\n",
       "      <td>...</td>\n",
       "      <td>446835</td>\n",
       "      <td>1001952</td>\n",
       "      <td>1714267</td>\n",
       "      <td>3198671</td>\n",
       "      <td>https://images.gr-assets.com/books/1361975680s...</td>\n",
       "      <td>To Kill a Mockingbird</td>\n",
       "      <td>3275794</td>\n",
       "      <td>3340896</td>\n",
       "      <td>72586</td>\n",
       "      <td>['Harper Lee']</td>\n",
       "    </tr>\n",
       "    <tr>\n",
       "      <th>4</th>\n",
       "      <td>4</td>\n",
       "      <td>4</td>\n",
       "      <td>['F. Scott Fitzgerald']</td>\n",
       "      <td>3.89</td>\n",
       "      <td>4671</td>\n",
       "      <td>5</td>\n",
       "      <td>1356</td>\n",
       "      <td>Alternate Cover Edition ISBN: 0743273567 (ISBN...</td>\n",
       "      <td>['classics', 'fiction', 'historical-fiction', ...</td>\n",
       "      <td>4671</td>\n",
       "      <td>...</td>\n",
       "      <td>606158</td>\n",
       "      <td>936012</td>\n",
       "      <td>947718</td>\n",
       "      <td>2683664</td>\n",
       "      <td>https://images.gr-assets.com/books/1490528560s...</td>\n",
       "      <td>The Great Gatsby</td>\n",
       "      <td>245494</td>\n",
       "      <td>2773745</td>\n",
       "      <td>51992</td>\n",
       "      <td>['F. Scott Fitzgerald']</td>\n",
       "    </tr>\n",
       "  </tbody>\n",
       "</table>\n",
       "<p>5 rows × 30 columns</p>\n",
       "</div>"
      ],
      "text/plain": [
       "   Unnamed: 0  index                            authors  average_rating  \\\n",
       "0           0      0                ['Suzanne Collins']            4.34   \n",
       "1           1      1  ['J.K. Rowling', 'Mary GrandPré']            4.44   \n",
       "2           2      2                ['Stephenie Meyer']            3.57   \n",
       "3           3      3                     ['Harper Lee']            4.25   \n",
       "4           4      4            ['F. Scott Fitzgerald']            3.89   \n",
       "\n",
       "   best_book_id  book_id  books_count  \\\n",
       "0       2767052        1          272   \n",
       "1             3        2          491   \n",
       "2         41865        3          226   \n",
       "3          2657        4          487   \n",
       "4          4671        5         1356   \n",
       "\n",
       "                                         description  \\\n",
       "0  WINNING MEANS FAME AND FORTUNE.LOSING MEANS CE...   \n",
       "1  Harry Potter's life is miserable. His parents ...   \n",
       "2  About three things I was absolutely positive.\\...   \n",
       "3  The unforgettable novel of a childhood in a sl...   \n",
       "4  Alternate Cover Edition ISBN: 0743273567 (ISBN...   \n",
       "\n",
       "                                              genres  goodreads_book_id  ...  \\\n",
       "0  ['young-adult', 'fiction', 'fantasy', 'science...            2767052  ...   \n",
       "1  ['fantasy', 'fiction', 'young-adult', 'classics']                  3  ...   \n",
       "2  ['young-adult', 'fantasy', 'romance', 'fiction...              41865  ...   \n",
       "3  ['classics', 'fiction', 'historical-fiction', ...               2657  ...   \n",
       "4  ['classics', 'fiction', 'historical-fiction', ...               4671  ...   \n",
       "\n",
       "  ratings_3 ratings_4  ratings_5 ratings_count  \\\n",
       "0    560092   1481305    2706317       4780653   \n",
       "1    455024   1156318    3011543       4602479   \n",
       "2    793319    875073    1355439       3866839   \n",
       "3    446835   1001952    1714267       3198671   \n",
       "4    606158    936012     947718       2683664   \n",
       "\n",
       "                                     small_image_url  \\\n",
       "0  https://images.gr-assets.com/books/1447303603s...   \n",
       "1  https://images.gr-assets.com/books/1474154022s...   \n",
       "2  https://images.gr-assets.com/books/1361039443s...   \n",
       "3  https://images.gr-assets.com/books/1361975680s...   \n",
       "4  https://images.gr-assets.com/books/1490528560s...   \n",
       "\n",
       "                                               title  work_id  \\\n",
       "0            The Hunger Games (The Hunger Games, #1)  2792775   \n",
       "1  Harry Potter and the Sorcerer's Stone (Harry P...  4640799   \n",
       "2                            Twilight (Twilight, #1)  3212258   \n",
       "3                              To Kill a Mockingbird  3275794   \n",
       "4                                   The Great Gatsby   245494   \n",
       "\n",
       "  work_ratings_count  work_text_reviews_count  \\\n",
       "0            4942365                   155254   \n",
       "1            4800065                    75867   \n",
       "2            3916824                    95009   \n",
       "3            3340896                    72586   \n",
       "4            2773745                    51992   \n",
       "\n",
       "                           authors_2  \n",
       "0                ['Suzanne Collins']  \n",
       "1  ['J.K. Rowling', 'Mary GrandPré']  \n",
       "2                ['Stephenie Meyer']  \n",
       "3                     ['Harper Lee']  \n",
       "4            ['F. Scott Fitzgerald']  \n",
       "\n",
       "[5 rows x 30 columns]"
      ]
     },
     "execution_count": 11,
     "metadata": {},
     "output_type": "execute_result"
    }
   ],
   "source": [
    "books_df.head()"
   ]
  },
  {
   "cell_type": "code",
   "execution_count": 12,
   "metadata": {
    "colab": {
     "base_uri": "https://localhost:8080/"
    },
    "executionInfo": {
     "elapsed": 323,
     "status": "ok",
     "timestamp": 1713432780770,
     "user": {
      "displayName": "Bianca Leoveanu",
      "userId": "09937094262569112673"
     },
     "user_tz": -120
    },
    "id": "_a5Dak7Ti1gw",
    "outputId": "7c888cc9-0d85-4c2c-8deb-bf23dd6ad348"
   },
   "outputs": [
    {
     "data": {
      "text/plain": [
       "10000"
      ]
     },
     "execution_count": 12,
     "metadata": {},
     "output_type": "execute_result"
    }
   ],
   "source": [
    "len(books_df)"
   ]
  },
  {
   "cell_type": "markdown",
   "metadata": {
    "id": "RqcEKuvfyrbD"
   },
   "source": [
    "Users and Ids"
   ]
  },
  {
   "cell_type": "code",
   "execution_count": 13,
   "metadata": {
    "colab": {
     "base_uri": "https://localhost:8080/"
    },
    "executionInfo": {
     "elapsed": 335,
     "status": "ok",
     "timestamp": 1713436902458,
     "user": {
      "displayName": "Bianca Leoveanu",
      "userId": "09937094262569112673"
     },
     "user_tz": -120
    },
    "id": "VtkjqqJ-jVnq",
    "outputId": "0a484f9e-2f89-43ae-bc0f-3841314e3bda"
   },
   "outputs": [
    {
     "data": {
      "text/plain": [
       "53424"
      ]
     },
     "execution_count": 13,
     "metadata": {},
     "output_type": "execute_result"
    }
   ],
   "source": [
    "books_rat.user_id.max()"
   ]
  },
  {
   "cell_type": "code",
   "execution_count": 14,
   "metadata": {
    "colab": {
     "base_uri": "https://localhost:8080/"
    },
    "executionInfo": {
     "elapsed": 366,
     "status": "ok",
     "timestamp": 1713436912204,
     "user": {
      "displayName": "Bianca Leoveanu",
      "userId": "09937094262569112673"
     },
     "user_tz": -120
    },
    "id": "pHEU7I9mjYXo",
    "outputId": "3600838f-0661-4ec5-ced3-f1cdf06c4afe"
   },
   "outputs": [
    {
     "data": {
      "text/plain": [
       "10000"
      ]
     },
     "execution_count": 14,
     "metadata": {},
     "output_type": "execute_result"
    }
   ],
   "source": [
    "books_rat.book_id.max()"
   ]
  },
  {
   "cell_type": "code",
   "execution_count": 15,
   "metadata": {
    "executionInfo": {
     "elapsed": 344,
     "status": "ok",
     "timestamp": 1713436957633,
     "user": {
      "displayName": "Bianca Leoveanu",
      "userId": "09937094262569112673"
     },
     "user_tz": -120
    },
    "id": "Mczo2VFAzGdE"
   },
   "outputs": [],
   "source": [
    "assert( len( books_rat.user_id.unique()) == books_rat.user_id.max())\n",
    "assert( len( books_rat.book_id.unique()) == books_rat.book_id.max())"
   ]
  },
  {
   "cell_type": "code",
   "execution_count": 16,
   "metadata": {
    "colab": {
     "base_uri": "https://localhost:8080/"
    },
    "executionInfo": {
     "elapsed": 1964,
     "status": "ok",
     "timestamp": 1713436987745,
     "user": {
      "displayName": "Bianca Leoveanu",
      "userId": "09937094262569112673"
     },
     "user_tz": -120
    },
    "id": "imY-1c60zRi3",
    "outputId": "7042167c-ab3a-4edc-924b-2ab7f81ddae0"
   },
   "outputs": [
    {
     "data": {
      "text/plain": [
       "count    10000.000000\n",
       "mean       597.647900\n",
       "std       1267.289788\n",
       "min          8.000000\n",
       "25%        155.000000\n",
       "50%        248.000000\n",
       "75%        503.000000\n",
       "max      22806.000000\n",
       "Name: book_id, dtype: float64"
      ]
     },
     "execution_count": 16,
     "metadata": {},
     "output_type": "execute_result"
    }
   ],
   "source": [
    "reviews_per_book = books_rat.groupby( 'book_id' ).book_id.apply( lambda x: len( x ))\n",
    "reviews_per_book.describe()"
   ]
  },
  {
   "cell_type": "code",
   "execution_count": 17,
   "metadata": {
    "colab": {
     "base_uri": "https://localhost:8080/"
    },
    "executionInfo": {
     "elapsed": 403,
     "status": "ok",
     "timestamp": 1713437012923,
     "user": {
      "displayName": "Bianca Leoveanu",
      "userId": "09937094262569112673"
     },
     "user_tz": -120
    },
    "id": "_sfqmLLXzYf-",
    "outputId": "7e4a009e-0eeb-427a-9be1-7426dfb77bd5"
   },
   "outputs": [
    {
     "data": {
      "text/plain": [
       "book_id\n",
       "7803     8\n",
       "9345    11\n",
       "9486    24\n",
       "1935    33\n",
       "9315    36\n",
       "9553    41\n",
       "8181    45\n",
       "9479    48\n",
       "9260    48\n",
       "9705    50\n",
       "Name: book_id, dtype: int64"
      ]
     },
     "execution_count": 17,
     "metadata": {},
     "output_type": "execute_result"
    }
   ],
   "source": [
    "reviews_per_book.sort_values().head( 10 )"
   ]
  },
  {
   "cell_type": "code",
   "execution_count": 18,
   "metadata": {
    "colab": {
     "base_uri": "https://localhost:8080/"
    },
    "executionInfo": {
     "elapsed": 2178,
     "status": "ok",
     "timestamp": 1713437042674,
     "user": {
      "displayName": "Bianca Leoveanu",
      "userId": "09937094262569112673"
     },
     "user_tz": -120
    },
    "id": "XNwxnWZnzfCR",
    "outputId": "bc015c78-5253-436e-c29d-2c45d537365d"
   },
   "outputs": [
    {
     "data": {
      "text/plain": [
       "count    53424.000000\n",
       "mean       111.868804\n",
       "std         26.071224\n",
       "min         19.000000\n",
       "25%         96.000000\n",
       "50%        111.000000\n",
       "75%        128.000000\n",
       "max        200.000000\n",
       "Name: user_id, dtype: float64"
      ]
     },
     "execution_count": 18,
     "metadata": {},
     "output_type": "execute_result"
    }
   ],
   "source": [
    "reviews_per_user = books_rat.groupby( 'user_id' ).user_id.apply( lambda x: len( x ))\n",
    "reviews_per_user.describe()"
   ]
  },
  {
   "cell_type": "code",
   "execution_count": 19,
   "metadata": {
    "colab": {
     "base_uri": "https://localhost:8080/"
    },
    "executionInfo": {
     "elapsed": 314,
     "status": "ok",
     "timestamp": 1713437056867,
     "user": {
      "displayName": "Bianca Leoveanu",
      "userId": "09937094262569112673"
     },
     "user_tz": -120
    },
    "id": "h4ON0oxhzl2q",
    "outputId": "0682fc41-3c31-41ad-936e-9c69d55775ed"
   },
   "outputs": [
    {
     "data": {
      "text/plain": [
       "user_id\n",
       "34590    19\n",
       "43675    20\n",
       "40753    21\n",
       "51725    21\n",
       "32128    21\n",
       "37640    22\n",
       "16470    22\n",
       "42736    22\n",
       "48077    22\n",
       "40299    22\n",
       "Name: user_id, dtype: int64"
      ]
     },
     "execution_count": 19,
     "metadata": {},
     "output_type": "execute_result"
    }
   ],
   "source": [
    "reviews_per_user.sort_values().head( 10 )"
   ]
  },
  {
   "cell_type": "code",
   "execution_count": 20,
   "metadata": {
    "colab": {
     "base_uri": "https://localhost:8080/",
     "height": 1030
    },
    "executionInfo": {
     "elapsed": 557,
     "status": "ok",
     "timestamp": 1713437071657,
     "user": {
      "displayName": "Bianca Leoveanu",
      "userId": "09937094262569112673"
     },
     "user_tz": -120
    },
    "id": "VdJ4-IpNzpwf",
    "outputId": "69e43a19-5612-4cfd-8e90-5246e08044d7"
   },
   "outputs": [
    {
     "data": {
      "text/html": [
       "<div>\n",
       "<style scoped>\n",
       "    .dataframe tbody tr th:only-of-type {\n",
       "        vertical-align: middle;\n",
       "    }\n",
       "\n",
       "    .dataframe tbody tr th {\n",
       "        vertical-align: top;\n",
       "    }\n",
       "\n",
       "    .dataframe thead th {\n",
       "        text-align: right;\n",
       "    }\n",
       "</style>\n",
       "<table border=\"1\" class=\"dataframe\">\n",
       "  <thead>\n",
       "    <tr style=\"text-align: right;\">\n",
       "      <th></th>\n",
       "      <th>tag_id</th>\n",
       "      <th>tag_name</th>\n",
       "    </tr>\n",
       "  </thead>\n",
       "  <tbody>\n",
       "    <tr>\n",
       "      <th>0</th>\n",
       "      <td>0</td>\n",
       "      <td>-</td>\n",
       "    </tr>\n",
       "    <tr>\n",
       "      <th>1</th>\n",
       "      <td>1</td>\n",
       "      <td>--1-</td>\n",
       "    </tr>\n",
       "    <tr>\n",
       "      <th>2</th>\n",
       "      <td>2</td>\n",
       "      <td>--10-</td>\n",
       "    </tr>\n",
       "    <tr>\n",
       "      <th>3</th>\n",
       "      <td>3</td>\n",
       "      <td>--12-</td>\n",
       "    </tr>\n",
       "    <tr>\n",
       "      <th>4</th>\n",
       "      <td>4</td>\n",
       "      <td>--122-</td>\n",
       "    </tr>\n",
       "  </tbody>\n",
       "</table>\n",
       "</div>"
      ],
      "text/plain": [
       "   tag_id tag_name\n",
       "0       0        -\n",
       "1       1     --1-\n",
       "2       2    --10-\n",
       "3       3    --12-\n",
       "4       4   --122-"
      ]
     },
     "execution_count": 20,
     "metadata": {},
     "output_type": "execute_result"
    }
   ],
   "source": [
    "tags.head()"
   ]
  },
  {
   "cell_type": "code",
   "execution_count": 21,
   "metadata": {
    "colab": {
     "base_uri": "https://localhost:8080/"
    },
    "executionInfo": {
     "elapsed": 296,
     "status": "ok",
     "timestamp": 1713437092921,
     "user": {
      "displayName": "Bianca Leoveanu",
      "userId": "09937094262569112673"
     },
     "user_tz": -120
    },
    "id": "0PIH8m_IztR9",
    "outputId": "81a5105c-966a-4e6b-b22f-0e5311a4ea43"
   },
   "outputs": [
    {
     "data": {
      "text/plain": [
       "34252"
      ]
     },
     "execution_count": 21,
     "metadata": {},
     "output_type": "execute_result"
    }
   ],
   "source": [
    "len(tags)"
   ]
  },
  {
   "cell_type": "code",
   "execution_count": 22,
   "metadata": {
    "colab": {
     "base_uri": "https://localhost:8080/",
     "height": 235
    },
    "executionInfo": {
     "elapsed": 458,
     "status": "ok",
     "timestamp": 1713437113550,
     "user": {
      "displayName": "Bianca Leoveanu",
      "userId": "09937094262569112673"
     },
     "user_tz": -120
    },
    "id": "YE-gHr5lzyUG",
    "outputId": "55256397-c106-4704-9e95-6512e33dbf3c"
   },
   "outputs": [
    {
     "data": {
      "text/html": [
       "<div>\n",
       "<style scoped>\n",
       "    .dataframe tbody tr th:only-of-type {\n",
       "        vertical-align: middle;\n",
       "    }\n",
       "\n",
       "    .dataframe tbody tr th {\n",
       "        vertical-align: top;\n",
       "    }\n",
       "\n",
       "    .dataframe thead th {\n",
       "        text-align: right;\n",
       "    }\n",
       "</style>\n",
       "<table border=\"1\" class=\"dataframe\">\n",
       "  <thead>\n",
       "    <tr style=\"text-align: right;\">\n",
       "      <th></th>\n",
       "      <th>goodreads_book_id</th>\n",
       "      <th>tag_id</th>\n",
       "      <th>count</th>\n",
       "    </tr>\n",
       "  </thead>\n",
       "  <tbody>\n",
       "    <tr>\n",
       "      <th>0</th>\n",
       "      <td>1</td>\n",
       "      <td>30574</td>\n",
       "      <td>167697</td>\n",
       "    </tr>\n",
       "    <tr>\n",
       "      <th>1</th>\n",
       "      <td>1</td>\n",
       "      <td>11305</td>\n",
       "      <td>37174</td>\n",
       "    </tr>\n",
       "    <tr>\n",
       "      <th>2</th>\n",
       "      <td>1</td>\n",
       "      <td>11557</td>\n",
       "      <td>34173</td>\n",
       "    </tr>\n",
       "    <tr>\n",
       "      <th>3</th>\n",
       "      <td>1</td>\n",
       "      <td>8717</td>\n",
       "      <td>12986</td>\n",
       "    </tr>\n",
       "    <tr>\n",
       "      <th>4</th>\n",
       "      <td>1</td>\n",
       "      <td>33114</td>\n",
       "      <td>12716</td>\n",
       "    </tr>\n",
       "  </tbody>\n",
       "</table>\n",
       "</div>"
      ],
      "text/plain": [
       "   goodreads_book_id  tag_id   count\n",
       "0                  1   30574  167697\n",
       "1                  1   11305   37174\n",
       "2                  1   11557   34173\n",
       "3                  1    8717   12986\n",
       "4                  1   33114   12716"
      ]
     },
     "execution_count": 22,
     "metadata": {},
     "output_type": "execute_result"
    }
   ],
   "source": [
    "book_tags.head()"
   ]
  },
  {
   "cell_type": "code",
   "execution_count": 23,
   "metadata": {
    "colab": {
     "base_uri": "https://localhost:8080/"
    },
    "executionInfo": {
     "elapsed": 421,
     "status": "ok",
     "timestamp": 1713437194205,
     "user": {
      "displayName": "Bianca Leoveanu",
      "userId": "09937094262569112673"
     },
     "user_tz": -120
    },
    "id": "yLkZ-1w1z3l2",
    "outputId": "78fd113d-d548-462e-cce4-5c93e8676331"
   },
   "outputs": [
    {
     "data": {
      "text/plain": [
       "999912"
      ]
     },
     "execution_count": 23,
     "metadata": {},
     "output_type": "execute_result"
    }
   ],
   "source": [
    "len(book_tags)"
   ]
  },
  {
   "cell_type": "code",
   "execution_count": 24,
   "metadata": {
    "executionInfo": {
     "elapsed": 289,
     "status": "ok",
     "timestamp": 1713437218806,
     "user": {
      "displayName": "Bianca Leoveanu",
      "userId": "09937094262569112673"
     },
     "user_tz": -120
    },
    "id": "yDFCMBls0LR_"
   },
   "outputs": [],
   "source": [
    "book_tags = book_tags.merge( tags, on = 'tag_id' )"
   ]
  },
  {
   "cell_type": "code",
   "execution_count": 25,
   "metadata": {
    "executionInfo": {
     "elapsed": 759,
     "status": "ok",
     "timestamp": 1713437261300,
     "user": {
      "displayName": "Bianca Leoveanu",
      "userId": "09937094262569112673"
     },
     "user_tz": -120
    },
    "id": "Dm7a2Uin0RVF"
   },
   "outputs": [],
   "source": [
    "book_tags = book_tags.merge( books_df[[ 'goodreads_book_id', 'title']], on = 'goodreads_book_id' )"
   ]
  },
  {
   "cell_type": "code",
   "execution_count": 26,
   "metadata": {
    "colab": {
     "base_uri": "https://localhost:8080/"
    },
    "executionInfo": {
     "elapsed": 325,
     "status": "ok",
     "timestamp": 1713437278900,
     "user": {
      "displayName": "Bianca Leoveanu",
      "userId": "09937094262569112673"
     },
     "user_tz": -120
    },
    "id": "s4CBscMe0ba6",
    "outputId": "eeb3eed6-4ffa-491a-ece4-8a55e552b2e6"
   },
   "outputs": [
    {
     "data": {
      "text/plain": [
       "count    999912.000000\n",
       "mean        208.869633\n",
       "std        3501.265173\n",
       "min          -1.000000\n",
       "25%           7.000000\n",
       "50%          15.000000\n",
       "75%          40.000000\n",
       "max      596234.000000\n",
       "Name: count, dtype: float64"
      ]
     },
     "execution_count": 26,
     "metadata": {},
     "output_type": "execute_result"
    }
   ],
   "source": [
    "book_tags['count'].describe()"
   ]
  },
  {
   "cell_type": "code",
   "execution_count": 27,
   "metadata": {
    "executionInfo": {
     "elapsed": 397,
     "status": "ok",
     "timestamp": 1713437301173,
     "user": {
      "displayName": "Bianca Leoveanu",
      "userId": "09937094262569112673"
     },
     "user_tz": -120
    },
    "id": "4kSk25bm0f_f"
   },
   "outputs": [],
   "source": [
    "book_tags.loc[ book_tags['count'] < 0, 'count'] = 0"
   ]
  },
  {
   "cell_type": "code",
   "execution_count": 28,
   "metadata": {
    "colab": {
     "base_uri": "https://localhost:8080/",
     "height": 359
    },
    "executionInfo": {
     "elapsed": 313,
     "status": "ok",
     "timestamp": 1713437315366,
     "user": {
      "displayName": "Bianca Leoveanu",
      "userId": "09937094262569112673"
     },
     "user_tz": -120
    },
    "id": "TUZ0Xp5C0lYO",
    "outputId": "050b54b3-7e6c-497a-ea0e-a1979240799d"
   },
   "outputs": [
    {
     "data": {
      "text/html": [
       "<div>\n",
       "<style scoped>\n",
       "    .dataframe tbody tr th:only-of-type {\n",
       "        vertical-align: middle;\n",
       "    }\n",
       "\n",
       "    .dataframe tbody tr th {\n",
       "        vertical-align: top;\n",
       "    }\n",
       "\n",
       "    .dataframe thead th {\n",
       "        text-align: right;\n",
       "    }\n",
       "</style>\n",
       "<table border=\"1\" class=\"dataframe\">\n",
       "  <thead>\n",
       "    <tr style=\"text-align: right;\">\n",
       "      <th></th>\n",
       "      <th>goodreads_book_id</th>\n",
       "      <th>tag_id</th>\n",
       "      <th>count</th>\n",
       "      <th>tag_name</th>\n",
       "      <th>title</th>\n",
       "    </tr>\n",
       "  </thead>\n",
       "  <tbody>\n",
       "    <tr>\n",
       "      <th>84000</th>\n",
       "      <td>10505</td>\n",
       "      <td>30574</td>\n",
       "      <td>72273</td>\n",
       "      <td>to-read</td>\n",
       "      <td>History of Beauty</td>\n",
       "    </tr>\n",
       "    <tr>\n",
       "      <th>435703</th>\n",
       "      <td>216363</td>\n",
       "      <td>8717</td>\n",
       "      <td>10624</td>\n",
       "      <td>currently-reading</td>\n",
       "      <td>The Man in the High Castle</td>\n",
       "    </tr>\n",
       "    <tr>\n",
       "      <th>493956</th>\n",
       "      <td>375802</td>\n",
       "      <td>26837</td>\n",
       "      <td>13142</td>\n",
       "      <td>science-fiction</td>\n",
       "      <td>Ender's Game (Ender's Saga, #1)</td>\n",
       "    </tr>\n",
       "    <tr>\n",
       "      <th>404700</th>\n",
       "      <td>156538</td>\n",
       "      <td>30574</td>\n",
       "      <td>19812</td>\n",
       "      <td>to-read</td>\n",
       "      <td>North and South</td>\n",
       "    </tr>\n",
       "    <tr>\n",
       "      <th>739594</th>\n",
       "      <td>8649656</td>\n",
       "      <td>30574</td>\n",
       "      <td>18181</td>\n",
       "      <td>to-read</td>\n",
       "      <td>The Fry Chronicles (Memoir #2)</td>\n",
       "    </tr>\n",
       "    <tr>\n",
       "      <th>784594</th>\n",
       "      <td>11235712</td>\n",
       "      <td>30574</td>\n",
       "      <td>474954</td>\n",
       "      <td>to-read</td>\n",
       "      <td>Cinder (The Lunar Chronicles, #1)</td>\n",
       "    </tr>\n",
       "    <tr>\n",
       "      <th>933656</th>\n",
       "      <td>20454672</td>\n",
       "      <td>30574</td>\n",
       "      <td>27183</td>\n",
       "      <td>to-read</td>\n",
       "      <td>Mean Streak</td>\n",
       "    </tr>\n",
       "    <tr>\n",
       "      <th>841294</th>\n",
       "      <td>13624688</td>\n",
       "      <td>30574</td>\n",
       "      <td>67057</td>\n",
       "      <td>to-read</td>\n",
       "      <td>The Time Keeper</td>\n",
       "    </tr>\n",
       "    <tr>\n",
       "      <th>679294</th>\n",
       "      <td>6567017</td>\n",
       "      <td>30574</td>\n",
       "      <td>201350</td>\n",
       "      <td>to-read</td>\n",
       "      <td>Will Grayson, Will Grayson</td>\n",
       "    </tr>\n",
       "    <tr>\n",
       "      <th>665880</th>\n",
       "      <td>6339664</td>\n",
       "      <td>2516</td>\n",
       "      <td>2704</td>\n",
       "      <td>angels</td>\n",
       "      <td>Hush, Hush (Hush, Hush, #1)</td>\n",
       "    </tr>\n",
       "  </tbody>\n",
       "</table>\n",
       "</div>"
      ],
      "text/plain": [
       "        goodreads_book_id  tag_id   count           tag_name  \\\n",
       "84000               10505   30574   72273            to-read   \n",
       "435703             216363    8717   10624  currently-reading   \n",
       "493956             375802   26837   13142    science-fiction   \n",
       "404700             156538   30574   19812            to-read   \n",
       "739594            8649656   30574   18181            to-read   \n",
       "784594           11235712   30574  474954            to-read   \n",
       "933656           20454672   30574   27183            to-read   \n",
       "841294           13624688   30574   67057            to-read   \n",
       "679294            6567017   30574  201350            to-read   \n",
       "665880            6339664    2516    2704             angels   \n",
       "\n",
       "                                    title  \n",
       "84000                   History of Beauty  \n",
       "435703         The Man in the High Castle  \n",
       "493956    Ender's Game (Ender's Saga, #1)  \n",
       "404700                    North and South  \n",
       "739594     The Fry Chronicles (Memoir #2)  \n",
       "784594  Cinder (The Lunar Chronicles, #1)  \n",
       "933656                        Mean Streak  \n",
       "841294                    The Time Keeper  \n",
       "679294         Will Grayson, Will Grayson  \n",
       "665880        Hush, Hush (Hush, Hush, #1)  "
      ]
     },
     "execution_count": 28,
     "metadata": {},
     "output_type": "execute_result"
    }
   ],
   "source": [
    "book_tags.sample( 10, weights = 'count')"
   ]
  },
  {
   "cell_type": "code",
   "execution_count": 29,
   "metadata": {
    "colab": {
     "base_uri": "https://localhost:8080/"
    },
    "executionInfo": {
     "elapsed": 321,
     "status": "ok",
     "timestamp": 1713437347592,
     "user": {
      "displayName": "Bianca Leoveanu",
      "userId": "09937094262569112673"
     },
     "user_tz": -120
    },
    "id": "S_6WBxDb0o4-",
    "outputId": "0b0fa703-ed4d-4337-8cf8-057f0def5e6e"
   },
   "outputs": [
    {
     "data": {
      "text/plain": [
       "tag_name\n",
       "to-read              9983\n",
       "favorites            9881\n",
       "owned                9858\n",
       "books-i-own          9799\n",
       "currently-reading    9776\n",
       "library              9415\n",
       "owned-books          9221\n",
       "fiction              9097\n",
       "to-buy               8692\n",
       "kindle               8316\n",
       "default              8239\n",
       "ebook                8054\n",
       "my-books             7561\n",
       "audiobook            7242\n",
       "ebooks               7203\n",
       "wish-list            7192\n",
       "my-library           7000\n",
       "audiobooks           6862\n",
       "i-own                6670\n",
       "adult                6604\n",
       "Name: tag_name, dtype: int64"
      ]
     },
     "execution_count": 29,
     "metadata": {},
     "output_type": "execute_result"
    }
   ],
   "source": [
    "tag_counts = book_tags.groupby( 'tag_name' ).tag_name.count().sort_values( ascending = False )\n",
    "tag_counts.head( 20 )"
   ]
  },
  {
   "cell_type": "code",
   "execution_count": 30,
   "metadata": {
    "id": "--uM2mGN0wuy"
   },
   "outputs": [
    {
     "name": "stderr",
     "output_type": "stream",
     "text": [
      "/var/folders/73/gwcs1q89075gwd2dyqhx8nyc0000gn/T/ipykernel_64720/772353246.py:30: MatplotlibDeprecationWarning: The get_cmap function was deprecated in Matplotlib 3.7 and will be removed two minor releases later. Use ``matplotlib.colormaps[name]`` or ``matplotlib.colormaps.get_cmap(obj)`` instead.\n",
      "  cmap = get_cmap('YlOrRd')\n"
     ]
    },
    {
     "data": {
      "image/png": "[encoded data removed]",
      "text/plain": [
       "<Figure size 1000x800 with 1 Axes>"
      ]
     },
     "metadata": {},
     "output_type": "display_data"
    }
   ],
   "source": [
    "from matplotlib.cm import get_cmap\n",
    "# Define the genres and convert them to lowercase\n",
    "genres = [genre.lower() for genre in [\"Art\", \"Biography\", \"Business\", \"Chick Lit\", \"Children's\", \"Christian\", \"Classics\", \"Comics\", \"Contemporary\", \"Cookbooks\", \"Crime\", \"Ebooks\", \"Fantasy\", \"Fiction\", \"Gay and Lesbian\", \"Graphic Novels\", \"Historical Fiction\", \"History\", \"Horror\", \"Humor and Comedy\", \"Manga\", \"Memoir\", \"Music\", \"Mystery\", \"Nonfiction\", \"Paranormal\", \"Philosophy\", \"Poetry\", \"Psychology\", \"Religion\", \"Romance\", \"Science\", \"Science Fiction\", \"Self Help\", \"Suspense\", \"Spirituality\", \"Sports\", \"Thriller\", \"Travel\", \"Young Adult\"]]\n",
    "\n",
    "# Define genres to exclude and filter them out\n",
    "exclude_genres = [\"fiction\", \"nonfiction\", \"ebooks\", \"contemporary\"]\n",
    "genres = [genre for genre in genres if genre not in exclude_genres]\n",
    "\n",
    "# Match genres with tags and filter\n",
    "available_genres = [genre for genre in genres if genre in tags['tag_name'].str.lower().tolist()]\n",
    "available_tags = tags[tags['tag_name'].str.lower().isin(available_genres)]['tag_id']\n",
    "\n",
    "# Filter book_tags by available tags and calculate the sum and percentage\n",
    "filtered_tags = book_tags[book_tags['tag_id'].isin(available_tags)]\n",
    "tag_counts = filtered_tags['tag_id'].value_counts().reset_index()\n",
    "tag_counts.columns = ['tag_id', 'n']\n",
    "\n",
    "# Add percentage calculation\n",
    "tag_counts['sumN'] = tag_counts['n'].sum()\n",
    "tag_counts['percentage'] = tag_counts['n'] / tag_counts['sumN']\n",
    "\n",
    "# Sort by percentage\n",
    "tag_counts = tag_counts.sort_values(by='percentage', ascending=False)\n",
    "\n",
    "# Join with tags to get tag names\n",
    "tag_counts = tag_counts.merge(tags, on='tag_id')\n",
    "\n",
    "# Plotting using matplotlib\n",
    "plt.figure(figsize=(10, 8))\n",
    "cmap = get_cmap('YlOrRd')\n",
    "colors = [cmap(i / len(tag_counts['percentage'])) for i in range(len(tag_counts['percentage']))]\n",
    "\n",
    "plt.barh(tag_counts['tag_name'], tag_counts['percentage'], color=colors, edgecolor='black')\n",
    "plt.xlabel('Percentage')\n",
    "plt.ylabel('Genre')\n",
    "plt.title('Percentage of Books by Genre')\n",
    "plt.gca().invert_yaxis()  # Invert y-axis to match coord_flip() in ggplot\n",
    "plt.show()\n"
   ]
  },
  {
   "cell_type": "markdown",
   "metadata": {},
   "source": [
    "# Clean the dataset"
   ]
  },
  {
   "cell_type": "markdown",
   "metadata": {},
   "source": [
    "## Remove the duplicate ratings"
   ]
  },
  {
   "cell_type": "code",
   "execution_count": 31,
   "metadata": {},
   "outputs": [
    {
     "name": "stdout",
     "output_type": "stream",
     "text": [
      "   user_id  book_id  rating\n",
      "0        1      258       5\n",
      "1        2     4081       4\n",
      "2        2      260       5\n",
      "3        2     9296       5\n",
      "4        2     2318       3\n",
      "(5976479, 3)\n"
     ]
    }
   ],
   "source": [
    "books_rat = books_rat.drop_duplicates(subset=['user_id', 'book_id'], keep='first')\n",
    "print(books_rat.head())\n",
    "print(books_rat.shape)"
   ]
  },
  {
   "cell_type": "markdown",
   "metadata": {},
   "source": [
    "## Remove the users that have rated less than 3 books"
   ]
  },
  {
   "cell_type": "code",
   "execution_count": 32,
   "metadata": {},
   "outputs": [
    {
     "name": "stdout",
     "output_type": "stream",
     "text": [
      "   user_id  book_id  rating\n",
      "0        1      258       5\n",
      "1        2     4081       4\n",
      "2        2      260       5\n",
      "3        2     9296       5\n",
      "4        2     2318       3\n",
      "user_id\n",
      "12874    200\n",
      "30944    200\n",
      "52036    199\n",
      "12381    199\n",
      "28158    199\n",
      "        ... \n",
      "32128     21\n",
      "40753     21\n",
      "51725     21\n",
      "43675     20\n",
      "34590     19\n",
      "Name: count, Length: 53424, dtype: int64\n"
     ]
    }
   ],
   "source": [
    "filtered_ratings = books_rat.groupby('user_id').filter(lambda x: len(x) >= 3)\n",
    "print(filtered_ratings.head())\n",
    "print(filtered_ratings['user_id'].value_counts())"
   ]
  },
  {
   "cell_type": "code",
   "execution_count": 33,
   "metadata": {},
   "outputs": [
    {
     "name": "stdout",
     "output_type": "stream",
     "text": [
      "Number of ratings (before): 5976479\n",
      "Number of ratings (after): 1196844\n"
     ]
    }
   ],
   "source": [
    "# Set the random seed for reproducibility\n",
    "np.random.seed(1)\n",
    "\n",
    "# Specify the fraction of users to sample\n",
    "user_fraction = 0.2\n",
    "\n",
    "# Get unique users from the 'user_id' column\n",
    "users = books_rat['user_id'].unique()\n",
    "\n",
    "# Sample 20% of the users\n",
    "sample_users = np.random.choice(users, size=int(user_fraction * len(users)), replace=False)\n",
    "\n",
    "# Print the number of ratings before filtering\n",
    "print('Number of ratings (before):', len(books_rat))\n",
    "\n",
    "# Filter the ratings DataFrame to only include rows where 'user_id' is in 'sample_users'\n",
    "books_rat = books_rat[books_rat['user_id'].isin(sample_users)]\n",
    "\n",
    "# Print the number of ratings after filtering\n",
    "print('Number of ratings (after):', len(books_rat))\n"
   ]
  },
  {
   "cell_type": "markdown",
   "metadata": {},
   "source": [
    "## Distribution of ratings"
   ]
  },
  {
   "cell_type": "code",
   "execution_count": 34,
   "metadata": {},
   "outputs": [
    {
     "data": {
      "image/png": "[encoded data removed]",
      "text/plain": [
       "<Figure size 1000x600 with 1 Axes>"
      ]
     },
     "metadata": {},
     "output_type": "display_data"
    }
   ],
   "source": [
    "plt.figure(figsize=(10, 6)) #creates a new figure with width 10 inches and height 6 inches\n",
    "plt.hist(books_rat['rating'], bins=30, color='blue', edgecolor='black') #creates a histogram from the ratings data in the books_rat['rating'] column. \n",
    "#The data is divided into 30 equal parts, with each bin colored blue and edged in black.\n",
    "plt.title('Distribution of Book Ratings') #sets the title of the histogram to \"Distribution of Book Ratings,\" which appears above the plot\n",
    "plt.xlabel('Rating') #labels the x-axis as \"Rating\"\n",
    "plt.ylabel('Frequency') #labels the y-axis as \"Frequency\"\n",
    "plt.grid(True) #enables a grid on the plot, which helps in estimating the values at various points more easily by lining them up with the grid lines\n",
    "plt.show() #displays the plot"
   ]
  },
  {
   "cell_type": "markdown",
   "metadata": {},
   "source": [
    "# Numbers of ratings per user"
   ]
  },
  {
   "cell_type": "code",
   "execution_count": 35,
   "metadata": {},
   "outputs": [
    {
     "name": "stdout",
     "output_type": "stream",
     "text": [
      "user_id\n",
      "7     155\n",
      "10    128\n",
      "20     90\n",
      "24    128\n",
      "28    120\n",
      "dtype: int64\n",
      "count    10684.000000\n",
      "mean       112.022089\n",
      "std         26.370954\n",
      "min         21.000000\n",
      "25%         96.000000\n",
      "50%        111.000000\n",
      "75%        128.000000\n",
      "max        200.000000\n",
      "dtype: float64\n"
     ]
    }
   ],
   "source": [
    "ratings_per_user = books_rat.groupby('user_id').size()\n",
    "print(ratings_per_user.head())\n",
    "print(ratings_per_user.describe())"
   ]
  },
  {
   "cell_type": "markdown",
   "metadata": {},
   "source": [
    "# Distribution of mean user ratings"
   ]
  },
  {
   "cell_type": "code",
   "execution_count": 36,
   "metadata": {},
   "outputs": [
    {
     "name": "stdout",
     "output_type": "stream",
     "text": [
      "user_id\n",
      "7     3.819355\n",
      "10    3.750000\n",
      "20    4.211111\n",
      "24    3.718750\n",
      "28    4.008333\n",
      "Name: rating, dtype: float64\n"
     ]
    },
    {
     "data": {
      "image/png": "[encoded data removed]",
      "text/plain": [
       "<Figure size 1000x600 with 1 Axes>"
      ]
     },
     "metadata": {},
     "output_type": "display_data"
    }
   ],
   "source": [
    "mean_ratings_per_user = books_rat.groupby('user_id')['rating'].mean()\n",
    "print(mean_ratings_per_user.head())\n",
    "plt.figure(figsize=(10, 6))\n",
    "plt.hist(mean_ratings_per_user, bins=30, color='green', edgecolor='black')\n",
    "plt.title('Distribution of Mean Ratings per User')\n",
    "plt.xlabel('Mean Rating')\n",
    "plt.ylabel('Number of Users')\n",
    "plt.grid(True)\n",
    "plt.show()"
   ]
  },
  {
   "cell_type": "markdown",
   "metadata": {},
   "source": [
    "# Number of ratings per book"
   ]
  },
  {
   "cell_type": "code",
   "execution_count": 37,
   "metadata": {},
   "outputs": [
    {
     "name": "stdout",
     "output_type": "stream",
     "text": [
      "book_id\n",
      "1    4575\n",
      "2    4345\n",
      "3    3370\n",
      "4    3807\n",
      "5    3345\n",
      "dtype: int64\n",
      "count    10000.000000\n",
      "mean       119.684400\n",
      "std        254.574898\n",
      "min          1.000000\n",
      "25%         31.000000\n",
      "50%         50.000000\n",
      "75%        101.250000\n",
      "max       4575.000000\n",
      "dtype: float64\n"
     ]
    }
   ],
   "source": [
    "ratings_per_book = books_rat.groupby('book_id').size()\n",
    "print(ratings_per_book.head())\n",
    "print(ratings_per_book.describe())"
   ]
  },
  {
   "cell_type": "markdown",
   "metadata": {},
   "source": [
    "# Top 10 rated books"
   ]
  },
  {
   "cell_type": "code",
   "execution_count": 38,
   "metadata": {},
   "outputs": [
    {
     "name": "stdout",
     "output_type": "stream",
     "text": [
      "title\n",
      "The Complete Calvin and Hobbes                                       4.82\n",
      "Words of Radiance (The Stormlight Archive, #2)                       4.77\n",
      "Harry Potter Boxed Set, Books 1-5 (Harry Potter, #1-5)               4.77\n",
      "Mark of the Lion Trilogy                                             4.76\n",
      "ESV Study Bible                                                      4.76\n",
      "It's a Magical World: A Calvin and Hobbes Collection                 4.75\n",
      "There's Treasure Everywhere: A Calvin and Hobbes Collection          4.74\n",
      "Harry Potter Boxset (Harry Potter, #1-7)                             4.74\n",
      "The Authoritative Calvin and Hobbes: A Calvin and Hobbes Treasury    4.73\n",
      "The Indispensable Calvin and Hobbes                                  4.73\n",
      "Name: average_rating, dtype: float64\n"
     ]
    }
   ],
   "source": [
    "average_ratings = books_df.groupby('title')['average_rating'].mean()\n",
    "top_books = average_ratings.sort_values(ascending=False).head(10)\n",
    "print(top_books)"
   ]
  },
  {
   "cell_type": "markdown",
   "metadata": {},
   "source": [
    "# Top 10 popular book"
   ]
  },
  {
   "cell_type": "code",
   "execution_count": 39,
   "metadata": {},
   "outputs": [
    {
     "name": "stdout",
     "output_type": "stream",
     "text": [
      "title\n",
      "The Hunger Games (The Hunger Games, #1)                     4780653.0\n",
      "Harry Potter and the Sorcerer's Stone (Harry Potter, #1)    4602479.0\n",
      "Twilight (Twilight, #1)                                     3866839.0\n",
      "To Kill a Mockingbird                                       3198671.0\n",
      "The Great Gatsby                                            2683664.0\n",
      "The Fault in Our Stars                                      2346404.0\n",
      "The Hobbit                                                  2071616.0\n",
      "The Catcher in the Rye                                      2044241.0\n",
      "Pride and Prejudice                                         2035490.0\n",
      "Angels & Demons  (Robert Langdon, #1)                       2001311.0\n",
      "Name: ratings_count, dtype: float64\n"
     ]
    }
   ],
   "source": [
    "average_ratings = books_df.groupby('title')['ratings_count'].mean()\n",
    "top_books = average_ratings.sort_values(ascending=False).head(10)\n",
    "print(top_books)"
   ]
  },
  {
   "cell_type": "markdown",
   "metadata": {},
   "source": [
    "# Collaborative Filtering"
   ]
  },
  {
   "cell_type": "markdown",
   "metadata": {},
   "source": [
    "We find the similarity by calculating the pearson's correlation coefficient.\n",
    "Pearson's correlation coefficient is a statistic that measures the linear relationship between two variables. The value ranges from -1 to 1, where:\n",
    "\n",
    "\n",
    "*   1 - perfect positive linear relationship\n",
    "*   -1 - perfect negative linear relationship\n",
    "*   0 - no linear relationship\n",
    "\n",
    "The formula to calculate Pearson's correlation coefficient r between two variables X and Y is given by:\n",
    "$$\n",
    "r = \\frac{\\sum (X_i - \\bar{X})(Y_i - \\bar{Y})}{\\sqrt{\\sum (X_i - \\bar{X})^2 \\sum (Y_i - \\bar{Y})^2}}\n",
    "$$\n",
    "where:\n",
    "* $X_{i}$ and $Y_{i}$ are the values of the two variables,\n",
    "* $\\bar{X}$ and $\\bar{Y}$ are the means of the variables X and Y respectively."
   ]
  },
  {
   "cell_type": "code",
   "execution_count": null,
   "metadata": {},
   "outputs": [],
   "source": []
  }
 ],
 "metadata": {
  "colab": {
   "authorship_tag": "ABX9TyP1E5QyXxLnI+FEEcYCL/xc",
   "provenance": []
  },
  "kernelspec": {
   "display_name": "Python 3 (ipykernel)",
   "language": "python",
   "name": "python3"
  },
  "language_info": {
   "codemirror_mode": {
    "name": "ipython",
    "version": 3
   },
   "file_extension": ".py",
   "mimetype": "text/x-python",
   "name": "python",
   "nbconvert_exporter": "python",
   "pygments_lexer": "ipython3",
   "version": "3.12.0"
  }
 },
 "nbformat": 4,
 "nbformat_minor": 4
}
